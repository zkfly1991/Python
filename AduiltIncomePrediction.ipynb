{
 "cells": [
  {
   "cell_type": "markdown",
   "metadata": {},
   "source": [
    "# Income Prediction\n",
    "\n",
    "#### This notebook will test different methods on the adult income data. The idea is to demonstrate the full cycle of data analytics using python.\n",
    "\n",
    "#### My intention is to create models using:\n",
    "1. Logistic Regression\n",
    "2. Tree\n",
    "3. Random Forest\n",
    "4. SVMs\n",
    "5. Neural Net\n",
    "6. AdaBoost\n",
    "7. GBM\n",
    "8. Ensemble voting method"
   ]
  },
  {
   "cell_type": "markdown",
   "metadata": {},
   "source": [
    "### Data Import and pre-processing"
   ]
  },
  {
   "cell_type": "code",
   "execution_count": 1,
   "metadata": {
    "collapsed": true
   },
   "outputs": [],
   "source": [
    "import pandas as pd\n",
    "import numpy as np\n",
    "import matplotlib.pyplot as plt\n",
    "import sklearn\n",
    "import csv\n",
    "import seaborn as sns\n",
    "sns.set(style=\"whitegrid\", color_codes=True)\n",
    "%matplotlib inline"
   ]
  },
  {
   "cell_type": "code",
   "execution_count": 2,
   "metadata": {
    "collapsed": true
   },
   "outputs": [],
   "source": [
    "#The original adult.data file has problems, so we generate csv file to make the input reading solid.\n",
    "with open(\"D:\\\\Documents\\\\DataSets\\\\AXAdataset\\\\dataset\\\\adult.data\") as input_file:\n",
    "   lines = input_file.readlines()\n",
    "   newLines = []\n",
    "   for line in lines:\n",
    "      newLine = line.strip().split()\n",
    "      newLines.append( newLine )\n",
    "\n",
    "with open('D:\\\\Documents\\\\DataSets\\\\AXAdataset\\\\dataset\\\\adult.csv', 'wb') as test_file:\n",
    "   file_writer = csv.writer(test_file)\n",
    "   file_writer.writerows( newLines )"
   ]
  },
  {
   "cell_type": "code",
   "execution_count": 3,
   "metadata": {
    "collapsed": false
   },
   "outputs": [],
   "source": [
    "data = pd.read_csv(\"D:\\\\Documents\\\\DataSets\\\\AXAdataset\\\\dataset\\\\adult.csv\", sep=',', header= None)"
   ]
  },
  {
   "cell_type": "code",
   "execution_count": 4,
   "metadata": {
    "collapsed": false
   },
   "outputs": [
    {
     "data": {
      "text/html": [
       "<div>\n",
       "<table border=\"1\" class=\"dataframe\">\n",
       "  <thead>\n",
       "    <tr style=\"text-align: right;\">\n",
       "      <th></th>\n",
       "      <th>age</th>\n",
       "      <th>workclass</th>\n",
       "      <th>fnlwgt</th>\n",
       "      <th>education</th>\n",
       "      <th>education.num</th>\n",
       "      <th>marital.status</th>\n",
       "      <th>occupation</th>\n",
       "      <th>relationship</th>\n",
       "      <th>race</th>\n",
       "      <th>sex</th>\n",
       "      <th>capital.gain</th>\n",
       "      <th>capital.loss</th>\n",
       "      <th>hours.per.week</th>\n",
       "      <th>native.country</th>\n",
       "      <th>income</th>\n",
       "    </tr>\n",
       "  </thead>\n",
       "  <tbody>\n",
       "    <tr>\n",
       "      <th>0</th>\n",
       "      <td>39</td>\n",
       "      <td>State-gov</td>\n",
       "      <td>77516</td>\n",
       "      <td>Bachelors</td>\n",
       "      <td>13</td>\n",
       "      <td>Never-married</td>\n",
       "      <td>Adm-clerical</td>\n",
       "      <td>Not-in-family</td>\n",
       "      <td>White</td>\n",
       "      <td>Male</td>\n",
       "      <td>2174</td>\n",
       "      <td>0</td>\n",
       "      <td>40</td>\n",
       "      <td>United-States</td>\n",
       "      <td>&lt;=50K</td>\n",
       "    </tr>\n",
       "    <tr>\n",
       "      <th>1</th>\n",
       "      <td>50</td>\n",
       "      <td>Self-emp-not-inc</td>\n",
       "      <td>83311</td>\n",
       "      <td>Bachelors</td>\n",
       "      <td>13</td>\n",
       "      <td>Married-civ-spouse</td>\n",
       "      <td>Exec-managerial</td>\n",
       "      <td>Husband</td>\n",
       "      <td>White</td>\n",
       "      <td>Male</td>\n",
       "      <td>0</td>\n",
       "      <td>0</td>\n",
       "      <td>13</td>\n",
       "      <td>United-States</td>\n",
       "      <td>&lt;=50K</td>\n",
       "    </tr>\n",
       "    <tr>\n",
       "      <th>2</th>\n",
       "      <td>38</td>\n",
       "      <td>Private</td>\n",
       "      <td>215646</td>\n",
       "      <td>HS-grad</td>\n",
       "      <td>9</td>\n",
       "      <td>Divorced</td>\n",
       "      <td>Handlers-cleaners</td>\n",
       "      <td>Not-in-family</td>\n",
       "      <td>White</td>\n",
       "      <td>Male</td>\n",
       "      <td>0</td>\n",
       "      <td>0</td>\n",
       "      <td>40</td>\n",
       "      <td>United-States</td>\n",
       "      <td>&lt;=50K</td>\n",
       "    </tr>\n",
       "    <tr>\n",
       "      <th>3</th>\n",
       "      <td>53</td>\n",
       "      <td>Private</td>\n",
       "      <td>234721</td>\n",
       "      <td>11th</td>\n",
       "      <td>7</td>\n",
       "      <td>Married-civ-spouse</td>\n",
       "      <td>Handlers-cleaners</td>\n",
       "      <td>Husband</td>\n",
       "      <td>Black</td>\n",
       "      <td>Male</td>\n",
       "      <td>0</td>\n",
       "      <td>0</td>\n",
       "      <td>40</td>\n",
       "      <td>United-States</td>\n",
       "      <td>&lt;=50K</td>\n",
       "    </tr>\n",
       "    <tr>\n",
       "      <th>4</th>\n",
       "      <td>28</td>\n",
       "      <td>Private</td>\n",
       "      <td>338409</td>\n",
       "      <td>Bachelors</td>\n",
       "      <td>13</td>\n",
       "      <td>Married-civ-spouse</td>\n",
       "      <td>Prof-specialty</td>\n",
       "      <td>Wife</td>\n",
       "      <td>Black</td>\n",
       "      <td>Female</td>\n",
       "      <td>0</td>\n",
       "      <td>0</td>\n",
       "      <td>40</td>\n",
       "      <td>Cuba</td>\n",
       "      <td>&lt;=50K</td>\n",
       "    </tr>\n",
       "  </tbody>\n",
       "</table>\n",
       "</div>"
      ],
      "text/plain": [
       "  age         workclass  fnlwgt  education education.num      marital.status  \\\n",
       "0  39         State-gov   77516  Bachelors            13       Never-married   \n",
       "1  50  Self-emp-not-inc   83311  Bachelors            13  Married-civ-spouse   \n",
       "2  38           Private  215646    HS-grad             9            Divorced   \n",
       "3  53           Private  234721       11th             7  Married-civ-spouse   \n",
       "4  28           Private  338409  Bachelors            13  Married-civ-spouse   \n",
       "\n",
       "          occupation   relationship   race     sex capital.gain capital.loss  \\\n",
       "0       Adm-clerical  Not-in-family  White    Male         2174            0   \n",
       "1    Exec-managerial        Husband  White    Male            0            0   \n",
       "2  Handlers-cleaners  Not-in-family  White    Male            0            0   \n",
       "3  Handlers-cleaners        Husband  Black    Male            0            0   \n",
       "4     Prof-specialty           Wife  Black  Female            0            0   \n",
       "\n",
       "  hours.per.week native.country income  \n",
       "0             40  United-States  <=50K  \n",
       "1             13  United-States  <=50K  \n",
       "2             40  United-States  <=50K  \n",
       "3             40  United-States  <=50K  \n",
       "4             40           Cuba  <=50K  "
      ]
     },
     "execution_count": 4,
     "metadata": {},
     "output_type": "execute_result"
    }
   ],
   "source": [
    "cols = ['age','workclass','fnlwgt','education','education.num','marital.status','occupation',\n",
    "                                  'relationship','race','sex','capital.gain','capital.loss','hours.per.week','native.country',\n",
    "                                  'income']\n",
    "data.columns = cols\n",
    "data[cols] = data[cols].replace({',': ''}, regex=True)\n",
    "data.head()"
   ]
  },
  {
   "cell_type": "code",
   "execution_count": 5,
   "metadata": {
    "collapsed": false
   },
   "outputs": [
    {
     "data": {
      "text/plain": [
       "age               object\n",
       "workclass         object\n",
       "fnlwgt            object\n",
       "education         object\n",
       "education.num     object\n",
       "marital.status    object\n",
       "occupation        object\n",
       "relationship      object\n",
       "race              object\n",
       "sex               object\n",
       "capital.gain      object\n",
       "capital.loss      object\n",
       "hours.per.week    object\n",
       "native.country    object\n",
       "income            object\n",
       "dtype: object"
      ]
     },
     "execution_count": 5,
     "metadata": {},
     "output_type": "execute_result"
    }
   ],
   "source": [
    "data.dtypes"
   ]
  },
  {
   "cell_type": "code",
   "execution_count": 150,
   "metadata": {
    "collapsed": false
   },
   "outputs": [
    {
     "data": {
      "text/plain": [
       "age                 int32\n",
       "workclass          object\n",
       "fnlwgt              int32\n",
       "education          object\n",
       "education.num     float64\n",
       "marital.status     object\n",
       "occupation         object\n",
       "relationship       object\n",
       "race               object\n",
       "sex                object\n",
       "capital.gain      float64\n",
       "capital.loss      float64\n",
       "hours.per.week    float64\n",
       "native.country     object\n",
       "income             object\n",
       "incomeClass         int32\n",
       "dtype: object"
      ]
     },
     "execution_count": 150,
     "metadata": {},
     "output_type": "execute_result"
    }
   ],
   "source": [
    "data[['age','fnlwgt']] = data[['age','fnlwgt']].astype(int)\n",
    "\n",
    "data[['education.num','capital.gain','capital.loss','hours.per.week']] = data[['education.num','capital.gain','capital.loss','hours.per.week']].astype(float)\n",
    "\n",
    "data.dtypes"
   ]
  },
  {
   "cell_type": "code",
   "execution_count": 7,
   "metadata": {
    "collapsed": false
   },
   "outputs": [
    {
     "data": {
      "text/plain": [
       "(32561, 15)"
      ]
     },
     "execution_count": 7,
     "metadata": {},
     "output_type": "execute_result"
    }
   ],
   "source": [
    "#Dimension of original data\n",
    "data.shape"
   ]
  },
  {
   "cell_type": "markdown",
   "metadata": {},
   "source": [
    "### Data Exploration\n",
    "#### We will explore the dependent variable and all the independent variables. "
   ]
  },
  {
   "cell_type": "code",
   "execution_count": 8,
   "metadata": {
    "collapsed": false
   },
   "outputs": [
    {
     "data": {
      "text/plain": [
       "<=50K    24720\n",
       ">50K      7841\n",
       "Name: income, dtype: int64"
      ]
     },
     "execution_count": 8,
     "metadata": {},
     "output_type": "execute_result"
    }
   ],
   "source": [
    "#Dependent Variable\n",
    "count_classes = pd.value_counts(data['income'], sort = True).sort_index()\n",
    "count_classes"
   ]
  },
  {
   "cell_type": "code",
   "execution_count": 9,
   "metadata": {
    "collapsed": false
   },
   "outputs": [
    {
     "data": {
      "image/png": "[encoded data removed]",
      "text/plain": [
       "<matplotlib.figure.Figure at 0xc27f5f8>"
      ]
     },
     "metadata": {},
     "output_type": "display_data"
    }
   ],
   "source": [
    "count_classes.plot(kind = 'bar')\n",
    "plt.title(\"Income class histogram\")\n",
    "plt.xlabel(\"Class\")\n",
    "plt.ylabel(\"Frequency\")\n",
    "plt.show()"
   ]
  },
  {
   "cell_type": "markdown",
   "metadata": {},
   "source": [
    "#### There are 24720 out of 32561 data are below 50K-- 75.9% of the data, which means the basic naive training accuracy in this case is 75.9%. \n",
    "#### The data is not too unbalanced, so we will choose 'Accuracy' to be the measurement."
   ]
  },
  {
   "cell_type": "markdown",
   "metadata": {},
   "source": [
    "#### The next step is to analyse the independent variables.\n",
    "#### These variables are 'age','workclass','fnlwgt','education','education.num','marital.status','occupation','relationship','race','sex','capital.gain','capital.loss','hours.per.week' and 'native.country'."
   ]
  },
  {
   "cell_type": "code",
   "execution_count": 10,
   "metadata": {
    "collapsed": false
   },
   "outputs": [
    {
     "data": {
      "text/plain": [
       "Private             22696\n",
       "Self-emp-not-inc     2541\n",
       "Local-gov            2093\n",
       "?                    1836\n",
       "State-gov            1298\n",
       "Self-emp-inc         1116\n",
       "Federal-gov           960\n",
       "Without-pay            14\n",
       "Never-worked            7\n",
       "Name: workclass, dtype: int64"
      ]
     },
     "execution_count": 10,
     "metadata": {},
     "output_type": "execute_result"
    }
   ],
   "source": [
    "# Work Class\n",
    "count_workclasses = pd.value_counts(data['workclass'], sort = True)\n",
    "count_workclasses"
   ]
  },
  {
   "cell_type": "code",
   "execution_count": 11,
   "metadata": {
    "collapsed": false
   },
   "outputs": [
    {
     "data": {
      "image/png": "[encoded data removed]",
      "text/plain": [
       "<matplotlib.figure.Figure at 0x11ba8da0>"
      ]
     },
     "metadata": {},
     "output_type": "display_data"
    }
   ],
   "source": [
    "count_workclasses.plot(kind = 'bar')\n",
    "plt.title(\"work class histogram\")\n",
    "plt.xlabel(\"Class\")\n",
    "plt.ylabel(\"Frequency\")\n",
    "plt.show()"
   ]
  },
  {
   "cell_type": "markdown",
   "metadata": {},
   "source": [
    "#### The work class variables is very biased towards 'Private', so the prediction performance should be not too good.\n",
    "#### Notice there are 1836 rows of '?' value-- We need to decide whether '?' are missing value, or we could treat them as a category."
   ]
  },
  {
   "cell_type": "code",
   "execution_count": 13,
   "metadata": {
    "collapsed": false
   },
   "outputs": [
    {
     "data": {
      "image/png": "[encoded data removed]",
      "text/plain": [
       "<matplotlib.figure.Figure at 0xeac9198>"
      ]
     },
     "metadata": {},
     "output_type": "display_data"
    }
   ],
   "source": [
    "# Age\n",
    "sns.countplot(x=\"age\", data=data, palette=\"Greens_d\");\n",
    "# The age distribution is quite continuous, no gaps between ages."
   ]
  },
  {
   "cell_type": "code",
   "execution_count": 14,
   "metadata": {
    "collapsed": false
   },
   "outputs": [
    {
     "data": {
      "image/png": "[encoded data removed]",
      "text/plain": [
       "<matplotlib.figure.Figure at 0x1187cfd0>"
      ]
     },
     "metadata": {},
     "output_type": "display_data"
    }
   ],
   "source": [
    "# fnlwgt\n",
    "sns.countplot(x=\"fnlwgt\", data=data, palette=\"Blues_d\");\n",
    "# The distribution of fnlwgt is very wild, not too much information gain from this."
   ]
  },
  {
   "cell_type": "code",
   "execution_count": 66,
   "metadata": {
    "collapsed": false
   },
   "outputs": [
    {
     "data": {
      "text/plain": [
       "<matplotlib.axes._subplots.AxesSubplot at 0x70965208>"
      ]
     },
     "execution_count": 66,
     "metadata": {},
     "output_type": "execute_result"
    },
    {
     "data": {
      "image/png": "[encoded data removed]",
      "text/plain": [
       "<matplotlib.figure.Figure at 0x70821518>"
      ]
     },
     "metadata": {},
     "output_type": "display_data"
    }
   ],
   "source": [
    "# fnlwgt distribution\n",
    "sns.kdeplot(data.fnlwgt,shade=True)"
   ]
  },
  {
   "cell_type": "code",
   "execution_count": 15,
   "metadata": {
    "collapsed": false
   },
   "outputs": [
    {
     "data": {
      "text/plain": [
       "HS-grad         10501\n",
       "Some-college     7291\n",
       "Bachelors        5355\n",
       "Masters          1723\n",
       "Assoc-voc        1382\n",
       "11th             1175\n",
       "Assoc-acdm       1067\n",
       "10th              933\n",
       "7th-8th           646\n",
       "Prof-school       576\n",
       "9th               514\n",
       "12th              433\n",
       "Doctorate         413\n",
       "5th-6th           333\n",
       "1st-4th           168\n",
       "Preschool          51\n",
       "Name: education, dtype: int64"
      ]
     },
     "execution_count": 15,
     "metadata": {},
     "output_type": "execute_result"
    }
   ],
   "source": [
    "#education\n",
    "count_education = pd.value_counts(data['education'], sort = True)\n",
    "count_education"
   ]
  },
  {
   "cell_type": "code",
   "execution_count": 16,
   "metadata": {
    "collapsed": false
   },
   "outputs": [
    {
     "data": {
      "image/png": "[encoded data removed]",
      "text/plain": [
       "<matplotlib.figure.Figure at 0x11ef29b0>"
      ]
     },
     "metadata": {},
     "output_type": "display_data"
    }
   ],
   "source": [
    "count_education.plot(kind = 'bar')\n",
    "plt.title(\"Education class histogram\")\n",
    "plt.xlabel(\"Class\")\n",
    "plt.ylabel(\"Frequency\")\n",
    "plt.show()\n",
    "# No '?' Value here\n",
    "# High School and College are most common, which makes sense in US.\n"
   ]
  },
  {
   "cell_type": "code",
   "execution_count": 17,
   "metadata": {
    "collapsed": false
   },
   "outputs": [
    {
     "data": {
      "image/png": "[encoded data removed]",
      "text/plain": [
       "<matplotlib.figure.Figure at 0x12134048>"
      ]
     },
     "metadata": {},
     "output_type": "display_data"
    }
   ],
   "source": [
    "# education years\n",
    "sns.countplot(x=\"education.num\", data=data, palette=\"Greens_d\");\n",
    "# The most common are 9 and 10, which is aline with high school and some college educations."
   ]
  },
  {
   "cell_type": "code",
   "execution_count": 18,
   "metadata": {
    "collapsed": false
   },
   "outputs": [
    {
     "data": {
      "text/plain": [
       "Married-civ-spouse       14976\n",
       "Never-married            10683\n",
       "Divorced                  4443\n",
       "Separated                 1025\n",
       "Widowed                    993\n",
       "Married-spouse-absent      418\n",
       "Married-AF-spouse           23\n",
       "Name: marital.status, dtype: int64"
      ]
     },
     "execution_count": 18,
     "metadata": {},
     "output_type": "execute_result"
    }
   ],
   "source": [
    "#marital.status\n",
    "count_marital = pd.value_counts(data['marital.status'], sort = True)\n",
    "count_marital"
   ]
  },
  {
   "cell_type": "code",
   "execution_count": 19,
   "metadata": {
    "collapsed": false
   },
   "outputs": [
    {
     "data": {
      "image/png": "[encoded data removed]",
      "text/plain": [
       "<matplotlib.figure.Figure at 0x11da1b70>"
      ]
     },
     "metadata": {},
     "output_type": "display_data"
    }
   ],
   "source": [
    "count_marital.plot(kind = 'bar')\n",
    "plt.title(\"marital status class histogram\")\n",
    "plt.xlabel(\"Class\")\n",
    "plt.ylabel(\"Frequency\")\n",
    "plt.show()\n",
    "# No '?' data.\n",
    "# Married with spouse and never married are most common."
   ]
  },
  {
   "cell_type": "code",
   "execution_count": 20,
   "metadata": {
    "collapsed": false
   },
   "outputs": [
    {
     "data": {
      "text/plain": [
       "Prof-specialty       4140\n",
       "Craft-repair         4099\n",
       "Exec-managerial      4066\n",
       "Adm-clerical         3770\n",
       "Sales                3650\n",
       "Other-service        3295\n",
       "Machine-op-inspct    2002\n",
       "?                    1843\n",
       "Transport-moving     1597\n",
       "Handlers-cleaners    1370\n",
       "Farming-fishing       994\n",
       "Tech-support          928\n",
       "Protective-serv       649\n",
       "Priv-house-serv       149\n",
       "Armed-Forces            9\n",
       "Name: occupation, dtype: int64"
      ]
     },
     "execution_count": 20,
     "metadata": {},
     "output_type": "execute_result"
    }
   ],
   "source": [
    "#occupation\n",
    "count_occupation= pd.value_counts(data['occupation'], sort = True)\n",
    "count_occupation"
   ]
  },
  {
   "cell_type": "code",
   "execution_count": 21,
   "metadata": {
    "collapsed": false
   },
   "outputs": [
    {
     "data": {
      "image/png": "[encoded data removed]",
      "text/plain": [
       "<matplotlib.figure.Figure at 0x543f4d30>"
      ]
     },
     "metadata": {},
     "output_type": "display_data"
    }
   ],
   "source": [
    "count_occupation.plot(kind = 'bar')\n",
    "plt.title(\"occupation class histogram\")\n",
    "plt.xlabel(\"Class\")\n",
    "plt.ylabel(\"Frequency\")\n",
    "plt.show()\n",
    "# There are 1843 '?' datapoints. \n",
    "# The top 6 occupations are quite evenly distributed in the data."
   ]
  },
  {
   "cell_type": "code",
   "execution_count": 22,
   "metadata": {
    "collapsed": false
   },
   "outputs": [
    {
     "data": {
      "text/plain": [
       "Husband           13193\n",
       "Not-in-family      8305\n",
       "Own-child          5068\n",
       "Unmarried          3446\n",
       "Wife               1568\n",
       "Other-relative      981\n",
       "Name: relationship, dtype: int64"
      ]
     },
     "execution_count": 22,
     "metadata": {},
     "output_type": "execute_result"
    }
   ],
   "source": [
    "#relationship\n",
    "count_relationship = pd.value_counts(data['relationship'], sort = True)\n",
    "count_relationship"
   ]
  },
  {
   "cell_type": "code",
   "execution_count": 23,
   "metadata": {
    "collapsed": false
   },
   "outputs": [
    {
     "data": {
      "image/png": "[encoded data removed]",
      "text/plain": [
       "<matplotlib.figure.Figure at 0x12e139e8>"
      ]
     },
     "metadata": {},
     "output_type": "display_data"
    }
   ],
   "source": [
    "count_relationship.plot(kind = 'bar')\n",
    "plt.title(\"relationship class histogram\")\n",
    "plt.xlabel(\"Class\")\n",
    "plt.ylabel(\"Frequency\")\n",
    "plt.show()\n",
    "# This data is very strange-- 13193 husbands but only 1568 wifes.\n",
    "# The survey is unbalanced toward husbands, or maybe in US, many wifes do not go out to work.\n",
    "# Need to further check with Gender variable.\n",
    "# No '?' data points."
   ]
  },
  {
   "cell_type": "code",
   "execution_count": 24,
   "metadata": {
    "collapsed": false
   },
   "outputs": [
    {
     "data": {
      "text/plain": [
       "Male      21790\n",
       "Female    10771\n",
       "Name: sex, dtype: int64"
      ]
     },
     "execution_count": 24,
     "metadata": {},
     "output_type": "execute_result"
    }
   ],
   "source": [
    "# Gender\n",
    "count_sex = pd.value_counts(data['sex'], sort = True)\n",
    "count_sex"
   ]
  },
  {
   "cell_type": "code",
   "execution_count": 25,
   "metadata": {
    "collapsed": false
   },
   "outputs": [
    {
     "data": {
      "image/png": "[encoded data removed]",
      "text/plain": [
       "<matplotlib.figure.Figure at 0x11e0e978>"
      ]
     },
     "metadata": {},
     "output_type": "display_data"
    }
   ],
   "source": [
    "count_sex.plot(kind = 'bar')\n",
    "plt.title(\"Income class histogram\")\n",
    "plt.xlabel(\"Class\")\n",
    "plt.ylabel(\"Frequency\")\n",
    "plt.show()\n",
    "# As expected there are 2 times of male than female in the data.\n",
    "# Again, it may due to many US women do not go out to work.\n",
    "# No '?' data points."
   ]
  },
  {
   "cell_type": "code",
   "execution_count": 26,
   "metadata": {
    "collapsed": false
   },
   "outputs": [
    {
     "data": {
      "text/plain": [
       "White                 27816\n",
       "Black                  3124\n",
       "Asian-Pac-Islander     1039\n",
       "Amer-Indian-Eskimo      311\n",
       "Other                   271\n",
       "Name: race, dtype: int64"
      ]
     },
     "execution_count": 26,
     "metadata": {},
     "output_type": "execute_result"
    }
   ],
   "source": [
    "#race\n",
    "count_race = pd.value_counts(data['race'], sort = True)\n",
    "count_race"
   ]
  },
  {
   "cell_type": "code",
   "execution_count": 27,
   "metadata": {
    "collapsed": false
   },
   "outputs": [
    {
     "data": {
      "image/png": "[encoded data removed]",
      "text/plain": [
       "<matplotlib.figure.Figure at 0x11daa780>"
      ]
     },
     "metadata": {},
     "output_type": "display_data"
    }
   ],
   "source": [
    "count_race.plot(kind = 'bar')\n",
    "plt.title(\"Income class histogram\")\n",
    "plt.xlabel(\"Class\")\n",
    "plt.ylabel(\"Frequency\")\n",
    "plt.show()\n",
    "# The large majority of the data is white people.\n",
    "# No '?' datapoints here\n"
   ]
  },
  {
   "cell_type": "code",
   "execution_count": 28,
   "metadata": {
    "collapsed": false
   },
   "outputs": [
    {
     "data": {
      "image/png": "[encoded data removed]",
      "text/plain": [
       "<matplotlib.figure.Figure at 0x12f1be80>"
      ]
     },
     "metadata": {},
     "output_type": "display_data"
    }
   ],
   "source": [
    "# capital.gain\n",
    "sns.countplot(x=\"capital.gain\", data=data, palette=\"Greens_d\");"
   ]
  },
  {
   "cell_type": "code",
   "execution_count": 29,
   "metadata": {
    "collapsed": false
   },
   "outputs": [
    {
     "data": {
      "text/plain": [
       "29849"
      ]
     },
     "execution_count": 29,
     "metadata": {},
     "output_type": "execute_result"
    }
   ],
   "source": [
    "data[data['capital.gain']==0].shape[0]\n",
    "# There are 29849 (91.7%) of the people have 0 capital gain."
   ]
  },
  {
   "cell_type": "code",
   "execution_count": 30,
   "metadata": {
    "collapsed": false
   },
   "outputs": [
    {
     "data": {
      "image/png": "[encoded data removed]",
      "text/plain": [
       "<matplotlib.figure.Figure at 0x11f221d0>"
      ]
     },
     "metadata": {},
     "output_type": "display_data"
    }
   ],
   "source": [
    "# capital.gain\n",
    "sns.countplot(x=\"capital.loss\", data=data, palette=\"Greens_d\");"
   ]
  },
  {
   "cell_type": "code",
   "execution_count": 31,
   "metadata": {
    "collapsed": false
   },
   "outputs": [
    {
     "data": {
      "text/plain": [
       "31042"
      ]
     },
     "execution_count": 31,
     "metadata": {},
     "output_type": "execute_result"
    }
   ],
   "source": [
    "data[data['capital.loss']==0].shape[0]\n",
    "# There are 31042 (95.3%) of the people have 0 capital gain, which is even larger than capital gain."
   ]
  },
  {
   "cell_type": "code",
   "execution_count": 32,
   "metadata": {
    "collapsed": false
   },
   "outputs": [
    {
     "data": {
      "image/png": "[encoded data removed]",
      "text/plain": [
       "<matplotlib.figure.Figure at 0x12614390>"
      ]
     },
     "metadata": {},
     "output_type": "display_data"
    }
   ],
   "source": [
    "# hours.per.week\n",
    "sns.countplot(x=\"hours.per.week\", data=data, palette=\"Greens_d\");"
   ]
  },
  {
   "cell_type": "code",
   "execution_count": 33,
   "metadata": {
    "collapsed": false
   },
   "outputs": [
    {
     "data": {
      "text/plain": [
       "40.0    15217\n",
       "50.0     2819\n",
       "45.0     1824\n",
       "60.0     1475\n",
       "35.0     1297\n",
       "Name: hours.per.week, dtype: int64"
      ]
     },
     "execution_count": 33,
     "metadata": {},
     "output_type": "execute_result"
    }
   ],
   "source": [
    "pd.value_counts(data['hours.per.week'], sort = True).head()\n",
    "# About half of the people work 40 hours per week."
   ]
  },
  {
   "cell_type": "code",
   "execution_count": 34,
   "metadata": {
    "collapsed": false
   },
   "outputs": [
    {
     "data": {
      "text/plain": [
       "United-States                 29170\n",
       "Mexico                          643\n",
       "?                               583\n",
       "Philippines                     198\n",
       "Germany                         137\n",
       "Canada                          121\n",
       "Puerto-Rico                     114\n",
       "El-Salvador                     106\n",
       "India                           100\n",
       "Cuba                             95\n",
       "England                          90\n",
       "Jamaica                          81\n",
       "South                            80\n",
       "China                            75\n",
       "Italy                            73\n",
       "Dominican-Republic               70\n",
       "Vietnam                          67\n",
       "Guatemala                        64\n",
       "Japan                            62\n",
       "Poland                           60\n",
       "Columbia                         59\n",
       "Taiwan                           51\n",
       "Haiti                            44\n",
       "Iran                             43\n",
       "Portugal                         37\n",
       "Nicaragua                        34\n",
       "Peru                             31\n",
       "France                           29\n",
       "Greece                           29\n",
       "Ecuador                          28\n",
       "Ireland                          24\n",
       "Hong                             20\n",
       "Trinadad&Tobago                  19\n",
       "Cambodia                         19\n",
       "Laos                             18\n",
       "Thailand                         18\n",
       "Yugoslavia                       16\n",
       "Outlying-US(Guam-USVI-etc)       14\n",
       "Hungary                          13\n",
       "Honduras                         13\n",
       "Scotland                         12\n",
       "Holand-Netherlands                1\n",
       "Name: native.country, dtype: int64"
      ]
     },
     "execution_count": 34,
     "metadata": {},
     "output_type": "execute_result"
    }
   ],
   "source": [
    "#native.country\n",
    "count_country = pd.value_counts(data['native.country'], sort = True)\n",
    "count_country"
   ]
  },
  {
   "cell_type": "code",
   "execution_count": 35,
   "metadata": {
    "collapsed": false
   },
   "outputs": [
    {
     "data": {
      "image/png": "[encoded data removed]",
      "text/plain": [
       "<matplotlib.figure.Figure at 0x67139128>"
      ]
     },
     "metadata": {},
     "output_type": "display_data"
    }
   ],
   "source": [
    "count_country.plot(kind = 'bar')\n",
    "plt.title(\"Income class histogram\")\n",
    "plt.xlabel(\"Class\")\n",
    "plt.ylabel(\"Frequency\")\n",
    "plt.show()\n",
    "# 90% the data points are americans, which means this feature does not have enough variance to explain the two income classes.\n",
    "# There are also 581 '?' data points."
   ]
  },
  {
   "cell_type": "markdown",
   "metadata": {},
   "source": [
    "### Missing Value\n",
    "#### After exploring the variables, we notice that there are 3 features contain '?' data points-- workclass, occupation and native country. Respectively, there are 1836, 1843 and 583 '?' rows in these 3 features.\n",
    "#### We need to check whether '?' values are indeed missing value, or we can treat them as category values."
   ]
  },
  {
   "cell_type": "code",
   "execution_count": 36,
   "metadata": {
    "collapsed": false
   },
   "outputs": [
    {
     "data": {
      "text/plain": [
       "0"
      ]
     },
     "execution_count": 36,
     "metadata": {},
     "output_type": "execute_result"
    }
   ],
   "source": [
    "#Check na missing value in the data -- no na missing values.\n",
    "data.shape[0] - data.dropna().shape[0]"
   ]
  },
  {
   "cell_type": "code",
   "execution_count": 37,
   "metadata": {
    "collapsed": false
   },
   "outputs": [
    {
     "data": {
      "text/plain": [
       "2399"
      ]
     },
     "execution_count": 37,
     "metadata": {},
     "output_type": "execute_result"
    }
   ],
   "source": [
    "data.ix[(data.workclass==\"?\") |(data.occupation==\"?\")| (data['native.country']==\"?\")].shape[0]"
   ]
  },
  {
   "cell_type": "code",
   "execution_count": 38,
   "metadata": {
    "collapsed": false
   },
   "outputs": [
    {
     "data": {
      "text/plain": [
       "1836"
      ]
     },
     "execution_count": 38,
     "metadata": {},
     "output_type": "execute_result"
    }
   ],
   "source": [
    "data.ix[(data.workclass==\"?\") &(data.occupation==\"?\")].shape[0]"
   ]
  },
  {
   "cell_type": "code",
   "execution_count": 42,
   "metadata": {
    "collapsed": false
   },
   "outputs": [
    {
     "data": {
      "text/plain": [
       "1836"
      ]
     },
     "execution_count": 42,
     "metadata": {},
     "output_type": "execute_result"
    }
   ],
   "source": [
    "data.ix[(data.workclass==\"?\")].shape[0]"
   ]
  },
  {
   "cell_type": "markdown",
   "metadata": {},
   "source": [
    "#### For all people who do not report their work class, they do not report their oppupation as well."
   ]
  },
  {
   "cell_type": "code",
   "execution_count": 43,
   "metadata": {
    "collapsed": false
   },
   "outputs": [
    {
     "data": {
      "text/plain": [
       "27"
      ]
     },
     "execution_count": 43,
     "metadata": {},
     "output_type": "execute_result"
    }
   ],
   "source": [
    "data.ix[(data['native.country']==\"?\") &(data.occupation==\"?\")].shape[0]"
   ]
  },
  {
   "cell_type": "code",
   "execution_count": 44,
   "metadata": {
    "collapsed": false
   },
   "outputs": [
    {
     "data": {
      "text/plain": [
       "Private             22696\n",
       "Self-emp-not-inc     2541\n",
       "Local-gov            2093\n",
       "?                    1836\n",
       "State-gov            1298\n",
       "Self-emp-inc         1116\n",
       "Federal-gov           960\n",
       "Without-pay            14\n",
       "Never-worked            7\n",
       "Name: workclass, dtype: int64"
      ]
     },
     "execution_count": 44,
     "metadata": {},
     "output_type": "execute_result"
    }
   ],
   "source": [
    "count_workclasses = pd.value_counts(data['workclass'], sort = True)\n",
    "count_workclasses"
   ]
  },
  {
   "cell_type": "markdown",
   "metadata": {},
   "source": [
    "#### We notice that all people do not report their occupations, they do not report their work class as well. \n",
    "#### We also notice that there is no \"other work class\" option in the work class and there are quite a large potion of people choose to not reveal their occupation or work class -- among 32561 data points, 2399 (7.36%) of them contain '?' data. \n",
    "#### So there may be reasons behind refusing report their occuption or work class or native country, so I suggest to keep the '?' as a individual category variable in stead of a missing value since it may have some prediction power."
   ]
  },
  {
   "cell_type": "markdown",
   "metadata": {},
   "source": [
    "### Feature selection and engineering\n",
    "#### We have seen some of the variables are very unbalanced, so we will first explore the correlation between these variables and the label using descriptive analysis.\n",
    "#### 'age','workclass','fnlwgt','education','education.num','marital.status','occupation','relationship','race','sex','capital.gain','capital.loss','hours.per.week' and 'native.country'."
   ]
  },
  {
   "cell_type": "code",
   "execution_count": 45,
   "metadata": {
    "collapsed": true
   },
   "outputs": [],
   "source": [
    "# To between draw the graph to explore, we need to change the labels of indepenedent variables.\n",
    "data['incomeClass'] = np.where(data.income == '<=50K', 0, 1)"
   ]
  },
  {
   "cell_type": "code",
   "execution_count": 46,
   "metadata": {
    "collapsed": false
   },
   "outputs": [
    {
     "data": {
      "image/png": "[encoded data removed]",
      "text/plain": [
       "<matplotlib.figure.Figure at 0x4ec15240>"
      ]
     },
     "metadata": {},
     "output_type": "display_data"
    }
   ],
   "source": [
    "# Age\n",
    "sns.pointplot(x=\"age\", y=\"incomeClass\", data=data, las=2);\n",
    "# Normal people reach the higest income at the mid age; \n",
    "# while more differences for elderly, it may due to less data points for the 80+ age poeple."
   ]
  },
  {
   "cell_type": "code",
   "execution_count": 47,
   "metadata": {
    "collapsed": false
   },
   "outputs": [
    {
     "data": {
      "text/plain": [
       "(array([0, 1, 2, 3, 4, 5, 6, 7, 8]), <a list of 9 Text xticklabel objects>)"
      ]
     },
     "execution_count": 47,
     "metadata": {},
     "output_type": "execute_result"
    },
    {
     "data": {
      "image/png": "[encoded data removed]",
      "text/plain": [
       "<matplotlib.figure.Figure at 0x67156c18>"
      ]
     },
     "metadata": {},
     "output_type": "display_data"
    }
   ],
   "source": [
    "# Workclass\n",
    "sns.barplot(x=\"workclass\", y=\"incomeClass\", data=data);\n",
    "plt.xticks(rotation=45)\n",
    "# Different works have different pay, the self-emp work class obviously have the highest pay, followed by federal works.\n",
    "# It is obvious the '?' category has clear prediction power! It proves that we should not drop the '?' data points."
   ]
  },
  {
   "cell_type": "code",
   "execution_count": 48,
   "metadata": {
    "collapsed": false
   },
   "outputs": [
    {
     "data": {
      "image/png": "[encoded data removed]",
      "text/plain": [
       "<matplotlib.figure.Figure at 0x12ef15c0>"
      ]
     },
     "metadata": {},
     "output_type": "display_data"
    }
   ],
   "source": [
    "# fnlwgt\n",
    "sns.pointplot(x=\"fnlwgt\", y=\"incomeClass\", data=data, las=2);\n",
    "# final weight is evenly distributed-- whether it will have good prediction power is questionable."
   ]
  },
  {
   "cell_type": "code",
   "execution_count": 49,
   "metadata": {
    "collapsed": false
   },
   "outputs": [
    {
     "data": {
      "text/plain": [
       "(array([ 0,  1,  2,  3,  4,  5,  6,  7,  8,  9, 10, 11, 12, 13, 14, 15]),\n",
       " <a list of 16 Text xticklabel objects>)"
      ]
     },
     "execution_count": 49,
     "metadata": {},
     "output_type": "execute_result"
    },
    {
     "data": {
      "image/png": "[encoded data removed]",
      "text/plain": [
       "<matplotlib.figure.Figure at 0x6dd603c8>"
      ]
     },
     "metadata": {},
     "output_type": "display_data"
    }
   ],
   "source": [
    "# education\n",
    "sns.barplot(x=\"education\", y=\"incomeClass\", data=data);\n",
    "plt.xticks(rotation=45)\n",
    "# It proves one thing-- higher education level higher pay.\n",
    "# So do a master or phd. :D"
   ]
  },
  {
   "cell_type": "code",
   "execution_count": 50,
   "metadata": {
    "collapsed": false
   },
   "outputs": [
    {
     "data": {
      "image/png": "[encoded data removed]",
      "text/plain": [
       "<matplotlib.figure.Figure at 0x533bd5c0>"
      ]
     },
     "metadata": {},
     "output_type": "display_data"
    }
   ],
   "source": [
    "# Gender\n",
    "sns.barplot(x=\"sex\", y=\"incomeClass\", data=data);\n",
    "# Male has almost 3 times chances than female to be a high income individual in this data set. "
   ]
  },
  {
   "cell_type": "code",
   "execution_count": 51,
   "metadata": {
    "collapsed": false
   },
   "outputs": [
    {
     "data": {
      "text/plain": [
       "(array([0, 1, 2, 3, 4, 5, 6]), <a list of 7 Text xticklabel objects>)"
      ]
     },
     "execution_count": 51,
     "metadata": {},
     "output_type": "execute_result"
    },
    {
     "data": {
      "image/png": "[encoded data removed]",
      "text/plain": [
       "<matplotlib.figure.Figure at 0x79193ba8>"
      ]
     },
     "metadata": {},
     "output_type": "display_data"
    }
   ],
   "source": [
    "# marital.status\n",
    "sns.barplot(x=\"marital.status\", y=\"incomeClass\", data=data);\n",
    "plt.xticks(rotation=45)\n",
    "# Married with an Armed Forces or Civilian spouse really earns a lot!!! "
   ]
  },
  {
   "cell_type": "code",
   "execution_count": 52,
   "metadata": {
    "collapsed": false
   },
   "outputs": [
    {
     "data": {
      "text/plain": [
       "(array([0, 1, 2, 3, 4, 5]), <a list of 6 Text xticklabel objects>)"
      ]
     },
     "execution_count": 52,
     "metadata": {},
     "output_type": "execute_result"
    },
    {
     "data": {
      "image/png": "[encoded data removed]",
      "text/plain": [
       "<matplotlib.figure.Figure at 0x7902cf28>"
      ]
     },
     "metadata": {},
     "output_type": "display_data"
    }
   ],
   "source": [
    "# relationship\n",
    "sns.barplot(x=\"relationship\", y=\"incomeClass\", data=data);\n",
    "plt.xticks(rotation=45)\n",
    "# Averagely wife even has higher chance than husband to become a high income individual!\n",
    "# It is totally different from the gender income graph where male earns much more than female.\n",
    "# So let us integrate these 2 to discover more."
   ]
  },
  {
   "cell_type": "code",
   "execution_count": 53,
   "metadata": {
    "collapsed": false
   },
   "outputs": [
    {
     "data": {
      "text/plain": [
       "(array([0, 1, 2, 3, 4, 5]), <a list of 6 Text xticklabel objects>)"
      ]
     },
     "execution_count": 53,
     "metadata": {},
     "output_type": "execute_result"
    },
    {
     "data": {
      "image/png": "[encoded data removed]",
      "text/plain": [
       "<matplotlib.figure.Figure at 0x791efd30>"
      ]
     },
     "metadata": {},
     "output_type": "display_data"
    }
   ],
   "source": [
    "# relationship and gender\n",
    "sns.barplot(x=\"relationship\", y=\"incomeClass\", hue = \"sex\",data=data);\n",
    "plt.xticks(rotation=45)\n",
    "# Basically we can notice the data itself may has problem with some male to wife at home..."
   ]
  },
  {
   "cell_type": "code",
   "execution_count": 54,
   "metadata": {
    "collapsed": false
   },
   "outputs": [
    {
     "data": {
      "text/plain": [
       "2"
      ]
     },
     "execution_count": 54,
     "metadata": {},
     "output_type": "execute_result"
    }
   ],
   "source": [
    "data.ix[(data.relationship=='Wife')& (data.sex == 'Male')].shape[0]"
   ]
  },
  {
   "cell_type": "code",
   "execution_count": 55,
   "metadata": {
    "collapsed": false
   },
   "outputs": [
    {
     "data": {
      "text/plain": [
       "32559"
      ]
     },
     "execution_count": 55,
     "metadata": {},
     "output_type": "execute_result"
    }
   ],
   "source": [
    "#Let us drop these 2 data points and continue\n",
    "data = data[~((data.relationship=='Wife')& (data.sex == 'Male'))]\n",
    "data.shape[0]"
   ]
  },
  {
   "cell_type": "code",
   "execution_count": 57,
   "metadata": {
    "collapsed": false
   },
   "outputs": [
    {
     "data": {
      "image/png": "[encoded data removed]",
      "text/plain": [
       "<matplotlib.figure.Figure at 0x5461aac8>"
      ]
     },
     "metadata": {},
     "output_type": "display_data"
    }
   ],
   "source": [
    "# relationship and gender\n",
    "sns.countplot(y=\"sex\", hue=\"relationship\", data=data);\n",
    "# Large percentage of the male in this data are husbands, but only small portion of female in this data are wifes."
   ]
  },
  {
   "cell_type": "code",
   "execution_count": 56,
   "metadata": {
    "collapsed": false
   },
   "outputs": [
    {
     "data": {
      "text/plain": [
       "(array([0, 1]), <a list of 2 Text xticklabel objects>)"
      ]
     },
     "execution_count": 56,
     "metadata": {},
     "output_type": "execute_result"
    },
    {
     "data": {
      "image/png": "[encoded data removed]",
      "text/plain": [
       "<matplotlib.figure.Figure at 0x549a0668>"
      ]
     },
     "metadata": {},
     "output_type": "display_data"
    }
   ],
   "source": [
    "sns.barplot(x=\"sex\", y=\"incomeClass\", hue = \"relationship\",data=data);\n",
    "plt.xticks(rotation=45)\n",
    "# Comparing to wifes, females in the other relationships except \"other relative\" have more datapoints and earn much less than wifes."
   ]
  },
  {
   "cell_type": "code",
   "execution_count": 58,
   "metadata": {
    "collapsed": false
   },
   "outputs": [
    {
     "data": {
      "text/plain": [
       "(array([ 0,  1,  2,  3,  4,  5,  6,  7,  8,  9, 10, 11, 12, 13, 14]),\n",
       " <a list of 15 Text xticklabel objects>)"
      ]
     },
     "execution_count": 58,
     "metadata": {},
     "output_type": "execute_result"
    },
    {
     "data": {
      "image/png": "[encoded data removed]",
      "text/plain": [
       "<matplotlib.figure.Figure at 0x86e5d630>"
      ]
     },
     "metadata": {},
     "output_type": "display_data"
    }
   ],
   "source": [
    "# occupation\n",
    "sns.barplot(x=\"occupation\", y=\"incomeClass\", data=data);\n",
    "plt.xticks(rotation=45)\n",
    "# The top occupation in US to get high income are managers, prof-speciality, protective service and Machine op inspect.\n",
    "# Btw, machine inspecters earn interestingly high.  "
   ]
  },
  {
   "cell_type": "code",
   "execution_count": 59,
   "metadata": {
    "collapsed": false
   },
   "outputs": [
    {
     "data": {
      "text/plain": [
       "(array([0, 1, 2, 3, 4]), <a list of 5 Text xticklabel objects>)"
      ]
     },
     "execution_count": 59,
     "metadata": {},
     "output_type": "execute_result"
    },
    {
     "data": {
      "image/png": "[encoded data removed]",
      "text/plain": [
       "<matplotlib.figure.Figure at 0x78984278>"
      ]
     },
     "metadata": {},
     "output_type": "display_data"
    }
   ],
   "source": [
    "# race\n",
    "sns.barplot(x=\"race\", y=\"incomeClass\", data=data);\n",
    "plt.xticks(rotation=45)\n",
    "# Proudly Asians averagely earn the most, followed by white."
   ]
  },
  {
   "cell_type": "code",
   "execution_count": 61,
   "metadata": {
    "collapsed": false
   },
   "outputs": [
    {
     "data": {
      "text/plain": [
       "(array([ 0,  1,  2,  3,  4,  5,  6,  7,  8,  9, 10, 11, 12, 13, 14, 15, 16,\n",
       "        17, 18, 19, 20, 21, 22, 23, 24, 25, 26, 27, 28, 29, 30, 31, 32, 33,\n",
       "        34, 35, 36, 37, 38, 39, 40, 41]),\n",
       " <a list of 42 Text xticklabel objects>)"
      ]
     },
     "execution_count": 61,
     "metadata": {},
     "output_type": "execute_result"
    },
    {
     "data": {
      "image/png": "[encoded data removed]",
      "text/plain": [
       "<matplotlib.figure.Figure at 0x7e209128>"
      ]
     },
     "metadata": {},
     "output_type": "display_data"
    }
   ],
   "source": [
    "# native.country\n",
    "sns.barplot(x=\"native.country\", y=\"incomeClass\", data=data);\n",
    "plt.xticks(rotation=90)\n",
    "# Averagely seems france people in this dataset earn the most- the native country do have some correlations with income."
   ]
  },
  {
   "cell_type": "code",
   "execution_count": 62,
   "metadata": {
    "collapsed": false
   },
   "outputs": [
    {
     "data": {
      "image/png": "[encoded data removed]",
      "text/plain": [
       "<matplotlib.figure.Figure at 0x6bd48fd0>"
      ]
     },
     "metadata": {},
     "output_type": "display_data"
    }
   ],
   "source": [
    "# hours per week\n",
    "sns.pointplot(x=\"hours.per.week\", y=\"incomeClass\", data=data, las=2);\n",
    "# Not neccesaryly works longer means higher income"
   ]
  },
  {
   "cell_type": "code",
   "execution_count": 64,
   "metadata": {
    "collapsed": false
   },
   "outputs": [
    {
     "data": {
      "image/png": "[encoded data removed]",
      "text/plain": [
       "<matplotlib.figure.Figure at 0x11dfb7b8>"
      ]
     },
     "metadata": {},
     "output_type": "display_data"
    }
   ],
   "source": [
    "# capital.gain\n",
    "sns.pointplot(x=\"capital.gain\", y=\"incomeClass\", data=data, las=2);\n"
   ]
  },
  {
   "cell_type": "code",
   "execution_count": 65,
   "metadata": {
    "collapsed": false
   },
   "outputs": [
    {
     "data": {
      "image/png": "[encoded data removed]",
      "text/plain": [
       "<matplotlib.figure.Figure at 0x7331f198>"
      ]
     },
     "metadata": {},
     "output_type": "display_data"
    }
   ],
   "source": [
    "# capital.loss\n",
    "sns.pointplot(x=\"capital.loss\", y=\"incomeClass\", data=data, las=2);\n",
    " "
   ]
  },
  {
   "cell_type": "markdown",
   "metadata": {},
   "source": [
    "### Feature Selection from model\n",
    "#### From the correlation plot between dependent variables and the label, we can see that the native country and final weight have relatively little connection with the income.\n",
    "#### We also use feature selection model from sklearn to do feature selection."
   ]
  },
  {
   "cell_type": "code",
   "execution_count": null,
   "metadata": {
    "collapsed": true
   },
   "outputs": [],
   "source": [
    "data.dtypes"
   ]
  },
  {
   "cell_type": "markdown",
   "metadata": {},
   "source": [
    "#### Because there are so many categorical variables in this data, so we need to create dummies for them.\n",
    "#### Note that sklearn does not support category type directly."
   ]
  },
  {
   "cell_type": "code",
   "execution_count": 159,
   "metadata": {
    "collapsed": false
   },
   "outputs": [
    {
     "data": {
      "text/plain": [
       "(32559, 69)"
      ]
     },
     "execution_count": 159,
     "metadata": {},
     "output_type": "execute_result"
    }
   ],
   "source": [
    "data1= pd.get_dummies(data, columns=['workclass','education','marital.status','occupation','relationship','race','sex'], prefix=[\"work\", \"edu\",\"marital\",\"occup\",\"relation\",\"race\",\"sex\"])\n",
    "data1.shape"
   ]
  },
  {
   "cell_type": "code",
   "execution_count": 160,
   "metadata": {
    "collapsed": false
   },
   "outputs": [
    {
     "data": {
      "text/plain": [
       "age                          int32\n",
       "fnlwgt                       int32\n",
       "education.num              float64\n",
       "capital.gain               float64\n",
       "capital.loss               float64\n",
       "hours.per.week             float64\n",
       "native.country              object\n",
       "income                      object\n",
       "incomeClass                  int32\n",
       "work_?                       uint8\n",
       "work_Federal-gov             uint8\n",
       "work_Local-gov               uint8\n",
       "work_Never-worked            uint8\n",
       "work_Private                 uint8\n",
       "work_Self-emp-inc            uint8\n",
       "work_Self-emp-not-inc        uint8\n",
       "work_State-gov               uint8\n",
       "work_Without-pay             uint8\n",
       "edu_10th                     uint8\n",
       "edu_11th                     uint8\n",
       "edu_12th                     uint8\n",
       "edu_1st-4th                  uint8\n",
       "edu_5th-6th                  uint8\n",
       "edu_7th-8th                  uint8\n",
       "edu_9th                      uint8\n",
       "edu_Assoc-acdm               uint8\n",
       "edu_Assoc-voc                uint8\n",
       "edu_Bachelors                uint8\n",
       "edu_Doctorate                uint8\n",
       "edu_HS-grad                  uint8\n",
       "                            ...   \n",
       "marital_Separated            uint8\n",
       "marital_Widowed              uint8\n",
       "occup_?                      uint8\n",
       "occup_Adm-clerical           uint8\n",
       "occup_Armed-Forces           uint8\n",
       "occup_Craft-repair           uint8\n",
       "occup_Exec-managerial        uint8\n",
       "occup_Farming-fishing        uint8\n",
       "occup_Handlers-cleaners      uint8\n",
       "occup_Machine-op-inspct      uint8\n",
       "occup_Other-service          uint8\n",
       "occup_Priv-house-serv        uint8\n",
       "occup_Prof-specialty         uint8\n",
       "occup_Protective-serv        uint8\n",
       "occup_Sales                  uint8\n",
       "occup_Tech-support           uint8\n",
       "occup_Transport-moving       uint8\n",
       "relation_Husband             uint8\n",
       "relation_Not-in-family       uint8\n",
       "relation_Other-relative      uint8\n",
       "relation_Own-child           uint8\n",
       "relation_Unmarried           uint8\n",
       "relation_Wife                uint8\n",
       "race_Amer-Indian-Eskimo      uint8\n",
       "race_Asian-Pac-Islander      uint8\n",
       "race_Black                   uint8\n",
       "race_Other                   uint8\n",
       "race_White                   uint8\n",
       "sex_Female                   uint8\n",
       "sex_Male                     uint8\n",
       "dtype: object"
      ]
     },
     "execution_count": 160,
     "metadata": {},
     "output_type": "execute_result"
    }
   ],
   "source": [
    "data1.dtypes"
   ]
  },
  {
   "cell_type": "markdown",
   "metadata": {},
   "source": [
    "#### The un-used variable and label will be dropped. \n",
    "#### Native country has too many categories, 40 dummies will be created; and over 90% of the data points are 'US', so the variance explaination power is very low. Hence we drop this feature."
   ]
  },
  {
   "cell_type": "code",
   "execution_count": 165,
   "metadata": {
    "collapsed": true
   },
   "outputs": [],
   "source": [
    "del data1[\"income\"]\n",
    "del data1[\"native.country\"]"
   ]
  },
  {
   "cell_type": "code",
   "execution_count": 167,
   "metadata": {
    "collapsed": false
   },
   "outputs": [
    {
     "data": {
      "text/plain": [
       "Index([u'age', u'fnlwgt', u'education.num', u'capital.gain', u'capital.loss',\n",
       "       u'hours.per.week', u'incomeClass', u'work_?', u'work_Federal-gov',\n",
       "       u'work_Local-gov', u'work_Never-worked', u'work_Private',\n",
       "       u'work_Self-emp-inc', u'work_Self-emp-not-inc', u'work_State-gov',\n",
       "       u'work_Without-pay', u'edu_10th', u'edu_11th', u'edu_12th',\n",
       "       u'edu_1st-4th', u'edu_5th-6th', u'edu_7th-8th', u'edu_9th',\n",
       "       u'edu_Assoc-acdm', u'edu_Assoc-voc', u'edu_Bachelors', u'edu_Doctorate',\n",
       "       u'edu_HS-grad', u'edu_Masters', u'edu_Preschool', u'edu_Prof-school',\n",
       "       u'edu_Some-college', u'marital_Divorced', u'marital_Married-AF-spouse',\n",
       "       u'marital_Married-civ-spouse', u'marital_Married-spouse-absent',\n",
       "       u'marital_Never-married', u'marital_Separated', u'marital_Widowed',\n",
       "       u'occup_?', u'occup_Adm-clerical', u'occup_Armed-Forces',\n",
       "       u'occup_Craft-repair', u'occup_Exec-managerial',\n",
       "       u'occup_Farming-fishing', u'occup_Handlers-cleaners',\n",
       "       u'occup_Machine-op-inspct', u'occup_Other-service',\n",
       "       u'occup_Priv-house-serv', u'occup_Prof-specialty',\n",
       "       u'occup_Protective-serv', u'occup_Sales', u'occup_Tech-support',\n",
       "       u'occup_Transport-moving', u'relation_Husband',\n",
       "       u'relation_Not-in-family', u'relation_Other-relative',\n",
       "       u'relation_Own-child', u'relation_Unmarried', u'relation_Wife',\n",
       "       u'race_Amer-Indian-Eskimo', u'race_Asian-Pac-Islander', u'race_Black',\n",
       "       u'race_Other', u'race_White', u'sex_Female', u'sex_Male'],\n",
       "      dtype='object')"
      ]
     },
     "execution_count": 167,
     "metadata": {},
     "output_type": "execute_result"
    }
   ],
   "source": [
    "data1.columns"
   ]
  },
  {
   "cell_type": "code",
   "execution_count": 168,
   "metadata": {
    "collapsed": false
   },
   "outputs": [
    {
     "data": {
      "text/html": [
       "<div>\n",
       "<table border=\"1\" class=\"dataframe\">\n",
       "  <thead>\n",
       "    <tr style=\"text-align: right;\">\n",
       "      <th></th>\n",
       "      <th>age</th>\n",
       "      <th>fnlwgt</th>\n",
       "      <th>education.num</th>\n",
       "      <th>capital.gain</th>\n",
       "      <th>capital.loss</th>\n",
       "      <th>hours.per.week</th>\n",
       "      <th>incomeClass</th>\n",
       "      <th>work_?</th>\n",
       "      <th>work_Federal-gov</th>\n",
       "      <th>work_Local-gov</th>\n",
       "      <th>...</th>\n",
       "      <th>relation_Own-child</th>\n",
       "      <th>relation_Unmarried</th>\n",
       "      <th>relation_Wife</th>\n",
       "      <th>race_Amer-Indian-Eskimo</th>\n",
       "      <th>race_Asian-Pac-Islander</th>\n",
       "      <th>race_Black</th>\n",
       "      <th>race_Other</th>\n",
       "      <th>race_White</th>\n",
       "      <th>sex_Female</th>\n",
       "      <th>sex_Male</th>\n",
       "    </tr>\n",
       "  </thead>\n",
       "  <tbody>\n",
       "    <tr>\n",
       "      <th>0</th>\n",
       "      <td>39</td>\n",
       "      <td>77516</td>\n",
       "      <td>13.0</td>\n",
       "      <td>2174.0</td>\n",
       "      <td>0.0</td>\n",
       "      <td>40.0</td>\n",
       "      <td>0</td>\n",
       "      <td>0</td>\n",
       "      <td>0</td>\n",
       "      <td>0</td>\n",
       "      <td>...</td>\n",
       "      <td>0</td>\n",
       "      <td>0</td>\n",
       "      <td>0</td>\n",
       "      <td>0</td>\n",
       "      <td>0</td>\n",
       "      <td>0</td>\n",
       "      <td>0</td>\n",
       "      <td>1</td>\n",
       "      <td>0</td>\n",
       "      <td>1</td>\n",
       "    </tr>\n",
       "    <tr>\n",
       "      <th>1</th>\n",
       "      <td>50</td>\n",
       "      <td>83311</td>\n",
       "      <td>13.0</td>\n",
       "      <td>0.0</td>\n",
       "      <td>0.0</td>\n",
       "      <td>13.0</td>\n",
       "      <td>0</td>\n",
       "      <td>0</td>\n",
       "      <td>0</td>\n",
       "      <td>0</td>\n",
       "      <td>...</td>\n",
       "      <td>0</td>\n",
       "      <td>0</td>\n",
       "      <td>0</td>\n",
       "      <td>0</td>\n",
       "      <td>0</td>\n",
       "      <td>0</td>\n",
       "      <td>0</td>\n",
       "      <td>1</td>\n",
       "      <td>0</td>\n",
       "      <td>1</td>\n",
       "    </tr>\n",
       "    <tr>\n",
       "      <th>2</th>\n",
       "      <td>38</td>\n",
       "      <td>215646</td>\n",
       "      <td>9.0</td>\n",
       "      <td>0.0</td>\n",
       "      <td>0.0</td>\n",
       "      <td>40.0</td>\n",
       "      <td>0</td>\n",
       "      <td>0</td>\n",
       "      <td>0</td>\n",
       "      <td>0</td>\n",
       "      <td>...</td>\n",
       "      <td>0</td>\n",
       "      <td>0</td>\n",
       "      <td>0</td>\n",
       "      <td>0</td>\n",
       "      <td>0</td>\n",
       "      <td>0</td>\n",
       "      <td>0</td>\n",
       "      <td>1</td>\n",
       "      <td>0</td>\n",
       "      <td>1</td>\n",
       "    </tr>\n",
       "    <tr>\n",
       "      <th>3</th>\n",
       "      <td>53</td>\n",
       "      <td>234721</td>\n",
       "      <td>7.0</td>\n",
       "      <td>0.0</td>\n",
       "      <td>0.0</td>\n",
       "      <td>40.0</td>\n",
       "      <td>0</td>\n",
       "      <td>0</td>\n",
       "      <td>0</td>\n",
       "      <td>0</td>\n",
       "      <td>...</td>\n",
       "      <td>0</td>\n",
       "      <td>0</td>\n",
       "      <td>0</td>\n",
       "      <td>0</td>\n",
       "      <td>0</td>\n",
       "      <td>1</td>\n",
       "      <td>0</td>\n",
       "      <td>0</td>\n",
       "      <td>0</td>\n",
       "      <td>1</td>\n",
       "    </tr>\n",
       "    <tr>\n",
       "      <th>4</th>\n",
       "      <td>28</td>\n",
       "      <td>338409</td>\n",
       "      <td>13.0</td>\n",
       "      <td>0.0</td>\n",
       "      <td>0.0</td>\n",
       "      <td>40.0</td>\n",
       "      <td>0</td>\n",
       "      <td>0</td>\n",
       "      <td>0</td>\n",
       "      <td>0</td>\n",
       "      <td>...</td>\n",
       "      <td>0</td>\n",
       "      <td>0</td>\n",
       "      <td>1</td>\n",
       "      <td>0</td>\n",
       "      <td>0</td>\n",
       "      <td>1</td>\n",
       "      <td>0</td>\n",
       "      <td>0</td>\n",
       "      <td>1</td>\n",
       "      <td>0</td>\n",
       "    </tr>\n",
       "  </tbody>\n",
       "</table>\n",
       "<p>5 rows × 67 columns</p>\n",
       "</div>"
      ],
      "text/plain": [
       "   age  fnlwgt  education.num  capital.gain  capital.loss  hours.per.week  \\\n",
       "0   39   77516           13.0        2174.0           0.0            40.0   \n",
       "1   50   83311           13.0           0.0           0.0            13.0   \n",
       "2   38  215646            9.0           0.0           0.0            40.0   \n",
       "3   53  234721            7.0           0.0           0.0            40.0   \n",
       "4   28  338409           13.0           0.0           0.0            40.0   \n",
       "\n",
       "   incomeClass  work_?  work_Federal-gov  work_Local-gov    ...     \\\n",
       "0            0       0                 0               0    ...      \n",
       "1            0       0                 0               0    ...      \n",
       "2            0       0                 0               0    ...      \n",
       "3            0       0                 0               0    ...      \n",
       "4            0       0                 0               0    ...      \n",
       "\n",
       "   relation_Own-child  relation_Unmarried  relation_Wife  \\\n",
       "0                   0                   0              0   \n",
       "1                   0                   0              0   \n",
       "2                   0                   0              0   \n",
       "3                   0                   0              0   \n",
       "4                   0                   0              1   \n",
       "\n",
       "   race_Amer-Indian-Eskimo  race_Asian-Pac-Islander  race_Black  race_Other  \\\n",
       "0                        0                        0           0           0   \n",
       "1                        0                        0           0           0   \n",
       "2                        0                        0           0           0   \n",
       "3                        0                        0           1           0   \n",
       "4                        0                        0           1           0   \n",
       "\n",
       "   race_White  sex_Female  sex_Male  \n",
       "0           1           0         1  \n",
       "1           1           0         1  \n",
       "2           1           0         1  \n",
       "3           0           0         1  \n",
       "4           0           1         0  \n",
       "\n",
       "[5 rows x 67 columns]"
      ]
     },
     "execution_count": 168,
     "metadata": {},
     "output_type": "execute_result"
    }
   ],
   "source": [
    "data1.head()"
   ]
  },
  {
   "cell_type": "markdown",
   "metadata": {},
   "source": [
    "#### Extract x and y from table:"
   ]
  },
  {
   "cell_type": "code",
   "execution_count": 250,
   "metadata": {
    "collapsed": false
   },
   "outputs": [
    {
     "data": {
      "text/plain": [
       "Index([u'age', u'fnlwgt', u'education.num', u'capital.gain', u'capital.loss',\n",
       "       u'hours.per.week', u'work_?', u'work_Federal-gov', u'work_Local-gov',\n",
       "       u'work_Never-worked', u'work_Private', u'work_Self-emp-inc',\n",
       "       u'work_Self-emp-not-inc', u'work_State-gov', u'work_Without-pay',\n",
       "       u'edu_10th', u'edu_11th', u'edu_12th', u'edu_1st-4th', u'edu_5th-6th',\n",
       "       u'edu_7th-8th', u'edu_9th', u'edu_Assoc-acdm', u'edu_Assoc-voc',\n",
       "       u'edu_Bachelors', u'edu_Doctorate', u'edu_HS-grad', u'edu_Masters',\n",
       "       u'edu_Preschool', u'edu_Prof-school', u'edu_Some-college',\n",
       "       u'marital_Divorced', u'marital_Married-AF-spouse',\n",
       "       u'marital_Married-civ-spouse', u'marital_Married-spouse-absent',\n",
       "       u'marital_Never-married', u'marital_Separated', u'marital_Widowed',\n",
       "       u'occup_?', u'occup_Adm-clerical', u'occup_Armed-Forces',\n",
       "       u'occup_Craft-repair', u'occup_Exec-managerial',\n",
       "       u'occup_Farming-fishing', u'occup_Handlers-cleaners',\n",
       "       u'occup_Machine-op-inspct', u'occup_Other-service',\n",
       "       u'occup_Priv-house-serv', u'occup_Prof-specialty',\n",
       "       u'occup_Protective-serv', u'occup_Sales', u'occup_Tech-support',\n",
       "       u'occup_Transport-moving', u'relation_Husband',\n",
       "       u'relation_Not-in-family', u'relation_Other-relative',\n",
       "       u'relation_Own-child', u'relation_Unmarried', u'relation_Wife',\n",
       "       u'race_Amer-Indian-Eskimo', u'race_Asian-Pac-Islander', u'race_Black',\n",
       "       u'race_Other', u'race_White', u'sex_Female', u'sex_Male'],\n",
       "      dtype='object')"
      ]
     },
     "execution_count": 250,
     "metadata": {},
     "output_type": "execute_result"
    }
   ],
   "source": [
    "y = data1[\"incomeClass\"]\n",
    "x = data1.loc[:, data1.columns != 'incomeClass']\n",
    "x.columns"
   ]
  },
  {
   "cell_type": "markdown",
   "metadata": {},
   "source": [
    "#### Import the test data here\n",
    "#### The same process as importing the training data"
   ]
  },
  {
   "cell_type": "code",
   "execution_count": 210,
   "metadata": {
    "collapsed": false
   },
   "outputs": [
    {
     "data": {
      "text/html": [
       "<div>\n",
       "<table border=\"1\" class=\"dataframe\">\n",
       "  <thead>\n",
       "    <tr style=\"text-align: right;\">\n",
       "      <th></th>\n",
       "      <th>age</th>\n",
       "      <th>workclass</th>\n",
       "      <th>fnlwgt</th>\n",
       "      <th>education</th>\n",
       "      <th>education.num</th>\n",
       "      <th>marital.status</th>\n",
       "      <th>occupation</th>\n",
       "      <th>relationship</th>\n",
       "      <th>race</th>\n",
       "      <th>sex</th>\n",
       "      <th>capital.gain</th>\n",
       "      <th>capital.loss</th>\n",
       "      <th>hours.per.week</th>\n",
       "      <th>native.country</th>\n",
       "      <th>income</th>\n",
       "    </tr>\n",
       "  </thead>\n",
       "  <tbody>\n",
       "    <tr>\n",
       "      <th>0</th>\n",
       "      <td>25,</td>\n",
       "      <td>Private,</td>\n",
       "      <td>226802,</td>\n",
       "      <td>11th,</td>\n",
       "      <td>7,</td>\n",
       "      <td>Never-married,</td>\n",
       "      <td>Machine-op-inspct,</td>\n",
       "      <td>Own-child,</td>\n",
       "      <td>Black,</td>\n",
       "      <td>Male,</td>\n",
       "      <td>0,</td>\n",
       "      <td>0,</td>\n",
       "      <td>40,</td>\n",
       "      <td>United-States,</td>\n",
       "      <td>&lt;=50K.</td>\n",
       "    </tr>\n",
       "    <tr>\n",
       "      <th>1</th>\n",
       "      <td>38,</td>\n",
       "      <td>Private,</td>\n",
       "      <td>89814,</td>\n",
       "      <td>HS-grad,</td>\n",
       "      <td>9,</td>\n",
       "      <td>Married-civ-spouse,</td>\n",
       "      <td>Farming-fishing,</td>\n",
       "      <td>Husband,</td>\n",
       "      <td>White,</td>\n",
       "      <td>Male,</td>\n",
       "      <td>0,</td>\n",
       "      <td>0,</td>\n",
       "      <td>50,</td>\n",
       "      <td>United-States,</td>\n",
       "      <td>&lt;=50K.</td>\n",
       "    </tr>\n",
       "    <tr>\n",
       "      <th>2</th>\n",
       "      <td>28,</td>\n",
       "      <td>Local-gov,</td>\n",
       "      <td>336951,</td>\n",
       "      <td>Assoc-acdm,</td>\n",
       "      <td>12,</td>\n",
       "      <td>Married-civ-spouse,</td>\n",
       "      <td>Protective-serv,</td>\n",
       "      <td>Husband,</td>\n",
       "      <td>White,</td>\n",
       "      <td>Male,</td>\n",
       "      <td>0,</td>\n",
       "      <td>0,</td>\n",
       "      <td>40,</td>\n",
       "      <td>United-States,</td>\n",
       "      <td>&gt;50K.</td>\n",
       "    </tr>\n",
       "    <tr>\n",
       "      <th>3</th>\n",
       "      <td>44,</td>\n",
       "      <td>Private,</td>\n",
       "      <td>160323,</td>\n",
       "      <td>Some-college,</td>\n",
       "      <td>10,</td>\n",
       "      <td>Married-civ-spouse,</td>\n",
       "      <td>Machine-op-inspct,</td>\n",
       "      <td>Husband,</td>\n",
       "      <td>Black,</td>\n",
       "      <td>Male,</td>\n",
       "      <td>7688,</td>\n",
       "      <td>0,</td>\n",
       "      <td>40,</td>\n",
       "      <td>United-States,</td>\n",
       "      <td>&gt;50K.</td>\n",
       "    </tr>\n",
       "    <tr>\n",
       "      <th>4</th>\n",
       "      <td>18,</td>\n",
       "      <td>?,</td>\n",
       "      <td>103497,</td>\n",
       "      <td>Some-college,</td>\n",
       "      <td>10,</td>\n",
       "      <td>Never-married,</td>\n",
       "      <td>?,</td>\n",
       "      <td>Own-child,</td>\n",
       "      <td>White,</td>\n",
       "      <td>Female,</td>\n",
       "      <td>0,</td>\n",
       "      <td>0,</td>\n",
       "      <td>30,</td>\n",
       "      <td>United-States,</td>\n",
       "      <td>&lt;=50K.</td>\n",
       "    </tr>\n",
       "  </tbody>\n",
       "</table>\n",
       "</div>"
      ],
      "text/plain": [
       "   age   workclass   fnlwgt      education education.num       marital.status  \\\n",
       "0  25,    Private,  226802,          11th,            7,       Never-married,   \n",
       "1  38,    Private,   89814,       HS-grad,            9,  Married-civ-spouse,   \n",
       "2  28,  Local-gov,  336951,    Assoc-acdm,           12,  Married-civ-spouse,   \n",
       "3  44,    Private,  160323,  Some-college,           10,  Married-civ-spouse,   \n",
       "4  18,          ?,  103497,  Some-college,           10,       Never-married,   \n",
       "\n",
       "           occupation relationship    race      sex capital.gain capital.loss  \\\n",
       "0  Machine-op-inspct,   Own-child,  Black,    Male,           0,           0,   \n",
       "1    Farming-fishing,     Husband,  White,    Male,           0,           0,   \n",
       "2    Protective-serv,     Husband,  White,    Male,           0,           0,   \n",
       "3  Machine-op-inspct,     Husband,  Black,    Male,        7688,           0,   \n",
       "4                  ?,   Own-child,  White,  Female,           0,           0,   \n",
       "\n",
       "  hours.per.week  native.country  income  \n",
       "0            40,  United-States,  <=50K.  \n",
       "1            50,  United-States,  <=50K.  \n",
       "2            40,  United-States,   >50K.  \n",
       "3            40,  United-States,   >50K.  \n",
       "4            30,  United-States,  <=50K.  "
      ]
     },
     "execution_count": 210,
     "metadata": {},
     "output_type": "execute_result"
    }
   ],
   "source": [
    "#The original adult.test file has problems, so we generate csv file to make the input reading solid.\n",
    "with open(\"D:\\\\Documents\\\\DataSets\\\\AXAdataset\\\\dataset\\\\adult.test\") as input_file:\n",
    "   lines = input_file.readlines()\n",
    "   newLines = []\n",
    "   for line in lines:\n",
    "      newLine = line.strip().split()\n",
    "      newLines.append( newLine )\n",
    "\n",
    "with open('D:\\\\Documents\\\\DataSets\\\\AXAdataset\\\\dataset\\\\adulttest.csv', 'wb') as test_file:\n",
    "   file_writer = csv.writer(test_file)\n",
    "   file_writer.writerows( newLines )\n",
    "    \n",
    "test = pd.read_csv(\"D:\\\\Documents\\\\DataSets\\\\AXAdataset\\\\dataset\\\\adulttest.csv\", sep=',',skiprows=1, header= None)\n",
    "\n",
    "cols = ['age','workclass','fnlwgt','education','education.num','marital.status','occupation',\n",
    "                                  'relationship','race','sex','capital.gain','capital.loss','hours.per.week','native.country',\n",
    "                                  'income']\n",
    "test.columns = cols\n",
    "test.head()"
   ]
  },
  {
   "cell_type": "code",
   "execution_count": 211,
   "metadata": {
    "collapsed": false
   },
   "outputs": [
    {
     "data": {
      "text/html": [
       "<div>\n",
       "<table border=\"1\" class=\"dataframe\">\n",
       "  <thead>\n",
       "    <tr style=\"text-align: right;\">\n",
       "      <th></th>\n",
       "      <th>age</th>\n",
       "      <th>workclass</th>\n",
       "      <th>fnlwgt</th>\n",
       "      <th>education</th>\n",
       "      <th>education.num</th>\n",
       "      <th>marital.status</th>\n",
       "      <th>occupation</th>\n",
       "      <th>relationship</th>\n",
       "      <th>race</th>\n",
       "      <th>sex</th>\n",
       "      <th>capital.gain</th>\n",
       "      <th>capital.loss</th>\n",
       "      <th>hours.per.week</th>\n",
       "      <th>native.country</th>\n",
       "      <th>income</th>\n",
       "    </tr>\n",
       "  </thead>\n",
       "  <tbody>\n",
       "    <tr>\n",
       "      <th>0</th>\n",
       "      <td>25</td>\n",
       "      <td>Private</td>\n",
       "      <td>226802</td>\n",
       "      <td>11th</td>\n",
       "      <td>7</td>\n",
       "      <td>Never-married</td>\n",
       "      <td>Machine-op-inspct</td>\n",
       "      <td>Own-child</td>\n",
       "      <td>Black</td>\n",
       "      <td>Male</td>\n",
       "      <td>0</td>\n",
       "      <td>0</td>\n",
       "      <td>40</td>\n",
       "      <td>United-States</td>\n",
       "      <td>&lt;=50K.</td>\n",
       "    </tr>\n",
       "    <tr>\n",
       "      <th>1</th>\n",
       "      <td>38</td>\n",
       "      <td>Private</td>\n",
       "      <td>89814</td>\n",
       "      <td>HS-grad</td>\n",
       "      <td>9</td>\n",
       "      <td>Married-civ-spouse</td>\n",
       "      <td>Farming-fishing</td>\n",
       "      <td>Husband</td>\n",
       "      <td>White</td>\n",
       "      <td>Male</td>\n",
       "      <td>0</td>\n",
       "      <td>0</td>\n",
       "      <td>50</td>\n",
       "      <td>United-States</td>\n",
       "      <td>&lt;=50K.</td>\n",
       "    </tr>\n",
       "    <tr>\n",
       "      <th>2</th>\n",
       "      <td>28</td>\n",
       "      <td>Local-gov</td>\n",
       "      <td>336951</td>\n",
       "      <td>Assoc-acdm</td>\n",
       "      <td>12</td>\n",
       "      <td>Married-civ-spouse</td>\n",
       "      <td>Protective-serv</td>\n",
       "      <td>Husband</td>\n",
       "      <td>White</td>\n",
       "      <td>Male</td>\n",
       "      <td>0</td>\n",
       "      <td>0</td>\n",
       "      <td>40</td>\n",
       "      <td>United-States</td>\n",
       "      <td>&gt;50K.</td>\n",
       "    </tr>\n",
       "    <tr>\n",
       "      <th>3</th>\n",
       "      <td>44</td>\n",
       "      <td>Private</td>\n",
       "      <td>160323</td>\n",
       "      <td>Some-college</td>\n",
       "      <td>10</td>\n",
       "      <td>Married-civ-spouse</td>\n",
       "      <td>Machine-op-inspct</td>\n",
       "      <td>Husband</td>\n",
       "      <td>Black</td>\n",
       "      <td>Male</td>\n",
       "      <td>7688</td>\n",
       "      <td>0</td>\n",
       "      <td>40</td>\n",
       "      <td>United-States</td>\n",
       "      <td>&gt;50K.</td>\n",
       "    </tr>\n",
       "    <tr>\n",
       "      <th>4</th>\n",
       "      <td>18</td>\n",
       "      <td>?</td>\n",
       "      <td>103497</td>\n",
       "      <td>Some-college</td>\n",
       "      <td>10</td>\n",
       "      <td>Never-married</td>\n",
       "      <td>?</td>\n",
       "      <td>Own-child</td>\n",
       "      <td>White</td>\n",
       "      <td>Female</td>\n",
       "      <td>0</td>\n",
       "      <td>0</td>\n",
       "      <td>30</td>\n",
       "      <td>United-States</td>\n",
       "      <td>&lt;=50K.</td>\n",
       "    </tr>\n",
       "  </tbody>\n",
       "</table>\n",
       "</div>"
      ],
      "text/plain": [
       "  age  workclass  fnlwgt     education education.num      marital.status  \\\n",
       "0  25    Private  226802          11th             7       Never-married   \n",
       "1  38    Private   89814       HS-grad             9  Married-civ-spouse   \n",
       "2  28  Local-gov  336951    Assoc-acdm            12  Married-civ-spouse   \n",
       "3  44    Private  160323  Some-college            10  Married-civ-spouse   \n",
       "4  18          ?  103497  Some-college            10       Never-married   \n",
       "\n",
       "          occupation relationship   race     sex capital.gain capital.loss  \\\n",
       "0  Machine-op-inspct    Own-child  Black    Male            0            0   \n",
       "1    Farming-fishing      Husband  White    Male            0            0   \n",
       "2    Protective-serv      Husband  White    Male            0            0   \n",
       "3  Machine-op-inspct      Husband  Black    Male         7688            0   \n",
       "4                  ?    Own-child  White  Female            0            0   \n",
       "\n",
       "  hours.per.week native.country  income  \n",
       "0             40  United-States  <=50K.  \n",
       "1             50  United-States  <=50K.  \n",
       "2             40  United-States   >50K.  \n",
       "3             40  United-States   >50K.  \n",
       "4             30  United-States  <=50K.  "
      ]
     },
     "execution_count": 211,
     "metadata": {},
     "output_type": "execute_result"
    }
   ],
   "source": [
    "test[cols] = test[cols].replace({',': ''}, regex=True)\n",
    "test.head()"
   ]
  },
  {
   "cell_type": "markdown",
   "metadata": {},
   "source": [
    "#### The necessary actions carried on the test data set:"
   ]
  },
  {
   "cell_type": "code",
   "execution_count": 267,
   "metadata": {
    "collapsed": false
   },
   "outputs": [
    {
     "data": {
      "text/plain": [
       "age                 int32\n",
       "workclass          object\n",
       "fnlwgt              int32\n",
       "education          object\n",
       "education.num     float64\n",
       "marital.status     object\n",
       "occupation         object\n",
       "relationship       object\n",
       "race               object\n",
       "sex                object\n",
       "capital.gain      float64\n",
       "capital.loss      float64\n",
       "hours.per.week    float64\n",
       "native.country     object\n",
       "income             object\n",
       "incomeClass         int32\n",
       "dtype: object"
      ]
     },
     "execution_count": 267,
     "metadata": {},
     "output_type": "execute_result"
    }
   ],
   "source": [
    "test[['age','fnlwgt']] = test[['age','fnlwgt']].astype(int)\n",
    "\n",
    "test[['education.num','capital.gain','capital.loss','hours.per.week']] = test[['education.num','capital.gain','capital.loss','hours.per.week']].astype(float)\n",
    "\n",
    "test['incomeClass'] = np.where(test['income']== \"<=50K.\", 0 ,1)\n",
    "\n",
    "test.dtypes"
   ]
  },
  {
   "cell_type": "code",
   "execution_count": 268,
   "metadata": {
    "collapsed": false
   },
   "outputs": [
    {
     "data": {
      "text/html": [
       "<div>\n",
       "<table border=\"1\" class=\"dataframe\">\n",
       "  <thead>\n",
       "    <tr style=\"text-align: right;\">\n",
       "      <th></th>\n",
       "      <th>age</th>\n",
       "      <th>workclass</th>\n",
       "      <th>fnlwgt</th>\n",
       "      <th>education</th>\n",
       "      <th>education.num</th>\n",
       "      <th>marital.status</th>\n",
       "      <th>occupation</th>\n",
       "      <th>relationship</th>\n",
       "      <th>race</th>\n",
       "      <th>sex</th>\n",
       "      <th>capital.gain</th>\n",
       "      <th>capital.loss</th>\n",
       "      <th>hours.per.week</th>\n",
       "      <th>native.country</th>\n",
       "      <th>income</th>\n",
       "      <th>incomeClass</th>\n",
       "    </tr>\n",
       "  </thead>\n",
       "  <tbody>\n",
       "    <tr>\n",
       "      <th>0</th>\n",
       "      <td>25</td>\n",
       "      <td>Private</td>\n",
       "      <td>226802</td>\n",
       "      <td>11th</td>\n",
       "      <td>7.0</td>\n",
       "      <td>Never-married</td>\n",
       "      <td>Machine-op-inspct</td>\n",
       "      <td>Own-child</td>\n",
       "      <td>Black</td>\n",
       "      <td>Male</td>\n",
       "      <td>0.0</td>\n",
       "      <td>0.0</td>\n",
       "      <td>40.0</td>\n",
       "      <td>United-States</td>\n",
       "      <td>&lt;=50K.</td>\n",
       "      <td>0</td>\n",
       "    </tr>\n",
       "    <tr>\n",
       "      <th>1</th>\n",
       "      <td>38</td>\n",
       "      <td>Private</td>\n",
       "      <td>89814</td>\n",
       "      <td>HS-grad</td>\n",
       "      <td>9.0</td>\n",
       "      <td>Married-civ-spouse</td>\n",
       "      <td>Farming-fishing</td>\n",
       "      <td>Husband</td>\n",
       "      <td>White</td>\n",
       "      <td>Male</td>\n",
       "      <td>0.0</td>\n",
       "      <td>0.0</td>\n",
       "      <td>50.0</td>\n",
       "      <td>United-States</td>\n",
       "      <td>&lt;=50K.</td>\n",
       "      <td>0</td>\n",
       "    </tr>\n",
       "    <tr>\n",
       "      <th>2</th>\n",
       "      <td>28</td>\n",
       "      <td>Local-gov</td>\n",
       "      <td>336951</td>\n",
       "      <td>Assoc-acdm</td>\n",
       "      <td>12.0</td>\n",
       "      <td>Married-civ-spouse</td>\n",
       "      <td>Protective-serv</td>\n",
       "      <td>Husband</td>\n",
       "      <td>White</td>\n",
       "      <td>Male</td>\n",
       "      <td>0.0</td>\n",
       "      <td>0.0</td>\n",
       "      <td>40.0</td>\n",
       "      <td>United-States</td>\n",
       "      <td>&gt;50K.</td>\n",
       "      <td>1</td>\n",
       "    </tr>\n",
       "    <tr>\n",
       "      <th>3</th>\n",
       "      <td>44</td>\n",
       "      <td>Private</td>\n",
       "      <td>160323</td>\n",
       "      <td>Some-college</td>\n",
       "      <td>10.0</td>\n",
       "      <td>Married-civ-spouse</td>\n",
       "      <td>Machine-op-inspct</td>\n",
       "      <td>Husband</td>\n",
       "      <td>Black</td>\n",
       "      <td>Male</td>\n",
       "      <td>7688.0</td>\n",
       "      <td>0.0</td>\n",
       "      <td>40.0</td>\n",
       "      <td>United-States</td>\n",
       "      <td>&gt;50K.</td>\n",
       "      <td>1</td>\n",
       "    </tr>\n",
       "    <tr>\n",
       "      <th>4</th>\n",
       "      <td>18</td>\n",
       "      <td>?</td>\n",
       "      <td>103497</td>\n",
       "      <td>Some-college</td>\n",
       "      <td>10.0</td>\n",
       "      <td>Never-married</td>\n",
       "      <td>?</td>\n",
       "      <td>Own-child</td>\n",
       "      <td>White</td>\n",
       "      <td>Female</td>\n",
       "      <td>0.0</td>\n",
       "      <td>0.0</td>\n",
       "      <td>30.0</td>\n",
       "      <td>United-States</td>\n",
       "      <td>&lt;=50K.</td>\n",
       "      <td>0</td>\n",
       "    </tr>\n",
       "  </tbody>\n",
       "</table>\n",
       "</div>"
      ],
      "text/plain": [
       "   age  workclass  fnlwgt     education  education.num      marital.status  \\\n",
       "0   25    Private  226802          11th            7.0       Never-married   \n",
       "1   38    Private   89814       HS-grad            9.0  Married-civ-spouse   \n",
       "2   28  Local-gov  336951    Assoc-acdm           12.0  Married-civ-spouse   \n",
       "3   44    Private  160323  Some-college           10.0  Married-civ-spouse   \n",
       "4   18          ?  103497  Some-college           10.0       Never-married   \n",
       "\n",
       "          occupation relationship   race     sex  capital.gain  capital.loss  \\\n",
       "0  Machine-op-inspct    Own-child  Black    Male           0.0           0.0   \n",
       "1    Farming-fishing      Husband  White    Male           0.0           0.0   \n",
       "2    Protective-serv      Husband  White    Male           0.0           0.0   \n",
       "3  Machine-op-inspct      Husband  Black    Male        7688.0           0.0   \n",
       "4                  ?    Own-child  White  Female           0.0           0.0   \n",
       "\n",
       "   hours.per.week native.country  income  incomeClass  \n",
       "0            40.0  United-States  <=50K.            0  \n",
       "1            50.0  United-States  <=50K.            0  \n",
       "2            40.0  United-States   >50K.            1  \n",
       "3            40.0  United-States   >50K.            1  \n",
       "4            30.0  United-States  <=50K.            0  "
      ]
     },
     "execution_count": 268,
     "metadata": {},
     "output_type": "execute_result"
    }
   ],
   "source": [
    "test.head()"
   ]
  },
  {
   "cell_type": "code",
   "execution_count": 269,
   "metadata": {
    "collapsed": false
   },
   "outputs": [
    {
     "data": {
      "text/plain": [
       "(16281, 69)"
      ]
     },
     "execution_count": 269,
     "metadata": {},
     "output_type": "execute_result"
    }
   ],
   "source": [
    "test1= pd.get_dummies(test, columns=['workclass','education','marital.status','occupation','relationship','race','sex'], prefix=[\"work\", \"edu\",\"marital\",\"occup\",\"relation\",\"race\",\"sex\"])\n",
    "test1.shape"
   ]
  },
  {
   "cell_type": "code",
   "execution_count": 270,
   "metadata": {
    "collapsed": true
   },
   "outputs": [],
   "source": [
    "test1.drop(['income', 'native.country'], axis=1, inplace=True)"
   ]
  },
  {
   "cell_type": "code",
   "execution_count": 271,
   "metadata": {
    "collapsed": false
   },
   "outputs": [
    {
     "data": {
      "text/plain": [
       "Index([u'age', u'fnlwgt', u'education.num', u'capital.gain', u'capital.loss',\n",
       "       u'hours.per.week', u'incomeClass', u'work_?', u'work_Federal-gov',\n",
       "       u'work_Local-gov', u'work_Never-worked', u'work_Private',\n",
       "       u'work_Self-emp-inc', u'work_Self-emp-not-inc', u'work_State-gov',\n",
       "       u'work_Without-pay', u'edu_10th', u'edu_11th', u'edu_12th',\n",
       "       u'edu_1st-4th', u'edu_5th-6th', u'edu_7th-8th', u'edu_9th',\n",
       "       u'edu_Assoc-acdm', u'edu_Assoc-voc', u'edu_Bachelors', u'edu_Doctorate',\n",
       "       u'edu_HS-grad', u'edu_Masters', u'edu_Preschool', u'edu_Prof-school',\n",
       "       u'edu_Some-college', u'marital_Divorced', u'marital_Married-AF-spouse',\n",
       "       u'marital_Married-civ-spouse', u'marital_Married-spouse-absent',\n",
       "       u'marital_Never-married', u'marital_Separated', u'marital_Widowed',\n",
       "       u'occup_?', u'occup_Adm-clerical', u'occup_Armed-Forces',\n",
       "       u'occup_Craft-repair', u'occup_Exec-managerial',\n",
       "       u'occup_Farming-fishing', u'occup_Handlers-cleaners',\n",
       "       u'occup_Machine-op-inspct', u'occup_Other-service',\n",
       "       u'occup_Priv-house-serv', u'occup_Prof-specialty',\n",
       "       u'occup_Protective-serv', u'occup_Sales', u'occup_Tech-support',\n",
       "       u'occup_Transport-moving', u'relation_Husband',\n",
       "       u'relation_Not-in-family', u'relation_Other-relative',\n",
       "       u'relation_Own-child', u'relation_Unmarried', u'relation_Wife',\n",
       "       u'race_Amer-Indian-Eskimo', u'race_Asian-Pac-Islander', u'race_Black',\n",
       "       u'race_Other', u'race_White', u'sex_Female', u'sex_Male'],\n",
       "      dtype='object')"
      ]
     },
     "execution_count": 271,
     "metadata": {},
     "output_type": "execute_result"
    }
   ],
   "source": [
    "test1.columns"
   ]
  },
  {
   "cell_type": "markdown",
   "metadata": {},
   "source": [
    "#### Extract x and y from test table:"
   ]
  },
  {
   "cell_type": "code",
   "execution_count": 272,
   "metadata": {
    "collapsed": false
   },
   "outputs": [
    {
     "data": {
      "text/plain": [
       "66"
      ]
     },
     "execution_count": 272,
     "metadata": {},
     "output_type": "execute_result"
    }
   ],
   "source": [
    "ytest = test1[\"incomeClass\"]\n",
    "xtest = test1.loc[:, data1.columns != 'incomeClass']\n",
    "xtest.shape[1]"
   ]
  },
  {
   "cell_type": "code",
   "execution_count": 273,
   "metadata": {
    "collapsed": false
   },
   "outputs": [
    {
     "data": {
      "text/html": [
       "<div>\n",
       "<table border=\"1\" class=\"dataframe\">\n",
       "  <thead>\n",
       "    <tr style=\"text-align: right;\">\n",
       "      <th></th>\n",
       "      <th>age</th>\n",
       "      <th>fnlwgt</th>\n",
       "      <th>education.num</th>\n",
       "      <th>capital.gain</th>\n",
       "      <th>capital.loss</th>\n",
       "      <th>hours.per.week</th>\n",
       "      <th>work_?</th>\n",
       "      <th>work_Federal-gov</th>\n",
       "      <th>work_Local-gov</th>\n",
       "      <th>work_Never-worked</th>\n",
       "      <th>...</th>\n",
       "      <th>relation_Own-child</th>\n",
       "      <th>relation_Unmarried</th>\n",
       "      <th>relation_Wife</th>\n",
       "      <th>race_Amer-Indian-Eskimo</th>\n",
       "      <th>race_Asian-Pac-Islander</th>\n",
       "      <th>race_Black</th>\n",
       "      <th>race_Other</th>\n",
       "      <th>race_White</th>\n",
       "      <th>sex_Female</th>\n",
       "      <th>sex_Male</th>\n",
       "    </tr>\n",
       "  </thead>\n",
       "  <tbody>\n",
       "    <tr>\n",
       "      <th>0</th>\n",
       "      <td>25</td>\n",
       "      <td>226802</td>\n",
       "      <td>7.0</td>\n",
       "      <td>0.0</td>\n",
       "      <td>0.0</td>\n",
       "      <td>40.0</td>\n",
       "      <td>0</td>\n",
       "      <td>0</td>\n",
       "      <td>0</td>\n",
       "      <td>0</td>\n",
       "      <td>...</td>\n",
       "      <td>1</td>\n",
       "      <td>0</td>\n",
       "      <td>0</td>\n",
       "      <td>0</td>\n",
       "      <td>0</td>\n",
       "      <td>1</td>\n",
       "      <td>0</td>\n",
       "      <td>0</td>\n",
       "      <td>0</td>\n",
       "      <td>1</td>\n",
       "    </tr>\n",
       "    <tr>\n",
       "      <th>1</th>\n",
       "      <td>38</td>\n",
       "      <td>89814</td>\n",
       "      <td>9.0</td>\n",
       "      <td>0.0</td>\n",
       "      <td>0.0</td>\n",
       "      <td>50.0</td>\n",
       "      <td>0</td>\n",
       "      <td>0</td>\n",
       "      <td>0</td>\n",
       "      <td>0</td>\n",
       "      <td>...</td>\n",
       "      <td>0</td>\n",
       "      <td>0</td>\n",
       "      <td>0</td>\n",
       "      <td>0</td>\n",
       "      <td>0</td>\n",
       "      <td>0</td>\n",
       "      <td>0</td>\n",
       "      <td>1</td>\n",
       "      <td>0</td>\n",
       "      <td>1</td>\n",
       "    </tr>\n",
       "    <tr>\n",
       "      <th>2</th>\n",
       "      <td>28</td>\n",
       "      <td>336951</td>\n",
       "      <td>12.0</td>\n",
       "      <td>0.0</td>\n",
       "      <td>0.0</td>\n",
       "      <td>40.0</td>\n",
       "      <td>0</td>\n",
       "      <td>0</td>\n",
       "      <td>1</td>\n",
       "      <td>0</td>\n",
       "      <td>...</td>\n",
       "      <td>0</td>\n",
       "      <td>0</td>\n",
       "      <td>0</td>\n",
       "      <td>0</td>\n",
       "      <td>0</td>\n",
       "      <td>0</td>\n",
       "      <td>0</td>\n",
       "      <td>1</td>\n",
       "      <td>0</td>\n",
       "      <td>1</td>\n",
       "    </tr>\n",
       "    <tr>\n",
       "      <th>3</th>\n",
       "      <td>44</td>\n",
       "      <td>160323</td>\n",
       "      <td>10.0</td>\n",
       "      <td>7688.0</td>\n",
       "      <td>0.0</td>\n",
       "      <td>40.0</td>\n",
       "      <td>0</td>\n",
       "      <td>0</td>\n",
       "      <td>0</td>\n",
       "      <td>0</td>\n",
       "      <td>...</td>\n",
       "      <td>0</td>\n",
       "      <td>0</td>\n",
       "      <td>0</td>\n",
       "      <td>0</td>\n",
       "      <td>0</td>\n",
       "      <td>1</td>\n",
       "      <td>0</td>\n",
       "      <td>0</td>\n",
       "      <td>0</td>\n",
       "      <td>1</td>\n",
       "    </tr>\n",
       "    <tr>\n",
       "      <th>4</th>\n",
       "      <td>18</td>\n",
       "      <td>103497</td>\n",
       "      <td>10.0</td>\n",
       "      <td>0.0</td>\n",
       "      <td>0.0</td>\n",
       "      <td>30.0</td>\n",
       "      <td>1</td>\n",
       "      <td>0</td>\n",
       "      <td>0</td>\n",
       "      <td>0</td>\n",
       "      <td>...</td>\n",
       "      <td>1</td>\n",
       "      <td>0</td>\n",
       "      <td>0</td>\n",
       "      <td>0</td>\n",
       "      <td>0</td>\n",
       "      <td>0</td>\n",
       "      <td>0</td>\n",
       "      <td>1</td>\n",
       "      <td>1</td>\n",
       "      <td>0</td>\n",
       "    </tr>\n",
       "  </tbody>\n",
       "</table>\n",
       "<p>5 rows × 66 columns</p>\n",
       "</div>"
      ],
      "text/plain": [
       "   age  fnlwgt  education.num  capital.gain  capital.loss  hours.per.week  \\\n",
       "0   25  226802            7.0           0.0           0.0            40.0   \n",
       "1   38   89814            9.0           0.0           0.0            50.0   \n",
       "2   28  336951           12.0           0.0           0.0            40.0   \n",
       "3   44  160323           10.0        7688.0           0.0            40.0   \n",
       "4   18  103497           10.0           0.0           0.0            30.0   \n",
       "\n",
       "   work_?  work_Federal-gov  work_Local-gov  work_Never-worked    ...     \\\n",
       "0       0                 0               0                  0    ...      \n",
       "1       0                 0               0                  0    ...      \n",
       "2       0                 0               1                  0    ...      \n",
       "3       0                 0               0                  0    ...      \n",
       "4       1                 0               0                  0    ...      \n",
       "\n",
       "   relation_Own-child  relation_Unmarried  relation_Wife  \\\n",
       "0                   1                   0              0   \n",
       "1                   0                   0              0   \n",
       "2                   0                   0              0   \n",
       "3                   0                   0              0   \n",
       "4                   1                   0              0   \n",
       "\n",
       "   race_Amer-Indian-Eskimo  race_Asian-Pac-Islander  race_Black  race_Other  \\\n",
       "0                        0                        0           1           0   \n",
       "1                        0                        0           0           0   \n",
       "2                        0                        0           0           0   \n",
       "3                        0                        0           1           0   \n",
       "4                        0                        0           0           0   \n",
       "\n",
       "   race_White  sex_Female  sex_Male  \n",
       "0           0           0         1  \n",
       "1           1           0         1  \n",
       "2           1           0         1  \n",
       "3           0           0         1  \n",
       "4           1           1         0  \n",
       "\n",
       "[5 rows x 66 columns]"
      ]
     },
     "execution_count": 273,
     "metadata": {},
     "output_type": "execute_result"
    }
   ],
   "source": [
    "xtest.head()"
   ]
  },
  {
   "cell_type": "code",
   "execution_count": 274,
   "metadata": {
    "collapsed": false
   },
   "outputs": [
    {
     "data": {
      "text/plain": [
       "66"
      ]
     },
     "execution_count": 274,
     "metadata": {},
     "output_type": "execute_result"
    }
   ],
   "source": [
    "x.shape[1]"
   ]
  },
  {
   "cell_type": "markdown",
   "metadata": {},
   "source": [
    "#### Import sklearn packages:"
   ]
  },
  {
   "cell_type": "code",
   "execution_count": 275,
   "metadata": {
    "collapsed": true
   },
   "outputs": [],
   "source": [
    "from sklearn.svm import LinearSVC\n",
    "from sklearn.feature_selection import SelectFromModel\n",
    "\n",
    "from sklearn.linear_model import LogisticRegression\n",
    "from sklearn.cross_validation import KFold, cross_val_score\n",
    "from sklearn.metrics import confusion_matrix,precision_recall_curve,auc,roc_auc_score,roc_curve,recall_score,classification_report "
   ]
  },
  {
   "cell_type": "markdown",
   "metadata": {},
   "source": [
    "#### Use linearSVC to do the feature selection part\n",
    "#### Use Selection from model SKlearn package\n",
    "#### Comparing the prediction before and after the feature selection."
   ]
  },
  {
   "cell_type": "code",
   "execution_count": 276,
   "metadata": {
    "collapsed": false
   },
   "outputs": [],
   "source": [
    "xfeatures = list(x)"
   ]
  },
  {
   "cell_type": "code",
   "execution_count": 277,
   "metadata": {
    "collapsed": false
   },
   "outputs": [],
   "source": [
    "lsvc = LinearSVC(C=0.05, penalty=\"l1\", dual=False).fit(x, y)"
   ]
  },
  {
   "cell_type": "code",
   "execution_count": 278,
   "metadata": {
    "collapsed": false
   },
   "outputs": [
    {
     "data": {
      "text/plain": [
       "55L"
      ]
     },
     "execution_count": 278,
     "metadata": {},
     "output_type": "execute_result"
    }
   ],
   "source": [
    "model = SelectFromModel(lsvc, prefit=True)\n",
    "x_new = model.transform(x)\n",
    "x_new.shape[1]"
   ]
  },
  {
   "cell_type": "code",
   "execution_count": 279,
   "metadata": {
    "collapsed": false
   },
   "outputs": [
    {
     "data": {
      "text/plain": [
       "[(True, 'age'),\n",
       " (False, 'fnlwgt'),\n",
       " (True, 'education.num'),\n",
       " (True, 'capital.gain'),\n",
       " (True, 'capital.loss'),\n",
       " (True, 'hours.per.week'),\n",
       " (True, 'work_?'),\n",
       " (True, 'work_Federal-gov'),\n",
       " (True, 'work_Local-gov'),\n",
       " (False, 'work_Never-worked'),\n",
       " (False, 'work_Private'),\n",
       " (True, 'work_Self-emp-inc'),\n",
       " (True, 'work_Self-emp-not-inc'),\n",
       " (True, 'work_State-gov'),\n",
       " (False, 'work_Without-pay'),\n",
       " (True, 'edu_10th'),\n",
       " (True, 'edu_11th'),\n",
       " (True, 'edu_12th'),\n",
       " (False, 'edu_1st-4th'),\n",
       " (False, 'edu_5th-6th'),\n",
       " (True, 'edu_7th-8th'),\n",
       " (True, 'edu_9th'),\n",
       " (True, 'edu_Assoc-acdm'),\n",
       " (True, 'edu_Assoc-voc'),\n",
       " (True, 'edu_Bachelors'),\n",
       " (True, 'edu_Doctorate'),\n",
       " (True, 'edu_HS-grad'),\n",
       " (True, 'edu_Masters'),\n",
       " (False, 'edu_Preschool'),\n",
       " (True, 'edu_Prof-school'),\n",
       " (True, 'edu_Some-college'),\n",
       " (True, 'marital_Divorced'),\n",
       " (False, 'marital_Married-AF-spouse'),\n",
       " (True, 'marital_Married-civ-spouse'),\n",
       " (True, 'marital_Married-spouse-absent'),\n",
       " (True, 'marital_Never-married'),\n",
       " (True, 'marital_Separated'),\n",
       " (True, 'marital_Widowed'),\n",
       " (True, 'occup_?'),\n",
       " (False, 'occup_Adm-clerical'),\n",
       " (False, 'occup_Armed-Forces'),\n",
       " (True, 'occup_Craft-repair'),\n",
       " (True, 'occup_Exec-managerial'),\n",
       " (True, 'occup_Farming-fishing'),\n",
       " (True, 'occup_Handlers-cleaners'),\n",
       " (True, 'occup_Machine-op-inspct'),\n",
       " (True, 'occup_Other-service'),\n",
       " (True, 'occup_Priv-house-serv'),\n",
       " (True, 'occup_Prof-specialty'),\n",
       " (True, 'occup_Protective-serv'),\n",
       " (True, 'occup_Sales'),\n",
       " (True, 'occup_Tech-support'),\n",
       " (True, 'occup_Transport-moving'),\n",
       " (False, 'relation_Husband'),\n",
       " (True, 'relation_Not-in-family'),\n",
       " (True, 'relation_Other-relative'),\n",
       " (True, 'relation_Own-child'),\n",
       " (True, 'relation_Unmarried'),\n",
       " (True, 'relation_Wife'),\n",
       " (True, 'race_Amer-Indian-Eskimo'),\n",
       " (True, 'race_Asian-Pac-Islander'),\n",
       " (True, 'race_Black'),\n",
       " (True, 'race_Other'),\n",
       " (True, 'race_White'),\n",
       " (True, 'sex_Female'),\n",
       " (True, 'sex_Male')]"
      ]
     },
     "execution_count": 279,
     "metadata": {},
     "output_type": "execute_result"
    }
   ],
   "source": [
    "zip(list(model.get_support()), xfeatures)"
   ]
  },
  {
   "cell_type": "markdown",
   "metadata": {},
   "source": [
    "#### We notice that only fnlwgt is not selected in this model, while the other categorical features have at least one value is significant in here.\n",
    "#### So we check the prediction performance before and after dropping fnlwgt feature."
   ]
  },
  {
   "cell_type": "code",
   "execution_count": 280,
   "metadata": {
    "collapsed": false
   },
   "outputs": [
    {
     "name": "stdout",
     "output_type": "stream",
     "text": [
      "             precision    recall  f1-score   support\n",
      "\n",
      "          0       0.88      0.94      0.91     24719\n",
      "          1       0.75      0.58      0.65      7840\n",
      "\n",
      "avg / total       0.84      0.85      0.84     32559\n",
      "\n"
     ]
    }
   ],
   "source": [
    "from sklearn.metrics import classification_report\n",
    "#Training metrics\n",
    "print(classification_report(y,lsvc.predict(x)))"
   ]
  },
  {
   "cell_type": "code",
   "execution_count": 281,
   "metadata": {
    "collapsed": false
   },
   "outputs": [
    {
     "name": "stdout",
     "output_type": "stream",
     "text": [
      "             precision    recall  f1-score   support\n",
      "\n",
      "          0       0.88      0.94      0.91     12435\n",
      "          1       0.74      0.58      0.65      3846\n",
      "\n",
      "avg / total       0.85      0.85      0.85     16281\n",
      "\n"
     ]
    }
   ],
   "source": [
    "#Test metrics\n",
    "print(classification_report(ytest,lsvc.predict(xtest)))"
   ]
  },
  {
   "cell_type": "code",
   "execution_count": null,
   "metadata": {
    "collapsed": true
   },
   "outputs": [],
   "source": [
    "from sklearn import metrics"
   ]
  },
  {
   "cell_type": "code",
   "execution_count": 286,
   "metadata": {
    "collapsed": false
   },
   "outputs": [
    {
     "data": {
      "text/plain": [
       "0.85159249362695411"
      ]
     },
     "execution_count": 286,
     "metadata": {},
     "output_type": "execute_result"
    }
   ],
   "source": [
    "#train Accuracy\n",
    "metrics.accuracy_score(y, lsvc.predict(x))"
   ]
  },
  {
   "cell_type": "code",
   "execution_count": 282,
   "metadata": {
    "collapsed": false
   },
   "outputs": [
    {
     "data": {
      "text/plain": [
       "0.85363306922179227"
      ]
     },
     "execution_count": 282,
     "metadata": {},
     "output_type": "execute_result"
    }
   ],
   "source": [
    "#Test Accuracy\n",
    "metrics.accuracy_score(ytest, lsvc.predict(xtest))"
   ]
  },
  {
   "cell_type": "markdown",
   "metadata": {},
   "source": [
    "#### Prediction after dropping fnlwgt:"
   ]
  },
  {
   "cell_type": "code",
   "execution_count": 283,
   "metadata": {
    "collapsed": false
   },
   "outputs": [],
   "source": [
    "lsvc1 = LinearSVC(C=0.1, penalty=\"l1\", dual=False).fit(x.loc[:,x.columns!='fnlwgt'], y)"
   ]
  },
  {
   "cell_type": "code",
   "execution_count": 284,
   "metadata": {
    "collapsed": false
   },
   "outputs": [
    {
     "name": "stdout",
     "output_type": "stream",
     "text": [
      "             precision    recall  f1-score   support\n",
      "\n",
      "          0       0.88      0.94      0.91     12435\n",
      "          1       0.74      0.58      0.65      3846\n",
      "\n",
      "avg / total       0.85      0.85      0.85     16281\n",
      "\n"
     ]
    }
   ],
   "source": [
    "print(classification_report(ytest,lsvc1.predict(xtest.loc[:,xtest.columns!='fnlwgt'])))"
   ]
  },
  {
   "cell_type": "code",
   "execution_count": 288,
   "metadata": {
    "collapsed": false
   },
   "outputs": [
    {
     "data": {
      "text/plain": [
       "0.85153106667895206"
      ]
     },
     "execution_count": 288,
     "metadata": {},
     "output_type": "execute_result"
    }
   ],
   "source": [
    "#Train Accuracy\n",
    "metrics.accuracy_score(y, lsvc1.predict(x.loc[:,x.columns!='fnlwgt']))"
   ]
  },
  {
   "cell_type": "code",
   "execution_count": 285,
   "metadata": {
    "collapsed": false
   },
   "outputs": [
    {
     "data": {
      "text/plain": [
       "0.85258890731527548"
      ]
     },
     "execution_count": 285,
     "metadata": {},
     "output_type": "execute_result"
    }
   ],
   "source": [
    "#Test Accuracy\n",
    "metrics.accuracy_score(ytest, lsvc1.predict(xtest.loc[:,xtest.columns!='fnlwgt']))"
   ]
  },
  {
   "cell_type": "markdown",
   "metadata": {},
   "source": [
    "#### The difference is minimum and by dropping the fnlwgt feature, the test accuracy increased a bit, so we decide to drop fnlwgt."
   ]
  },
  {
   "cell_type": "code",
   "execution_count": 289,
   "metadata": {
    "collapsed": true
   },
   "outputs": [],
   "source": [
    "x = x.loc[:,x.columns!='fnlwgt']\n",
    "xtest = xtest.loc[:,xtest.columns!='fnlwgt']"
   ]
  },
  {
   "cell_type": "code",
   "execution_count": 290,
   "metadata": {
    "collapsed": false
   },
   "outputs": [
    {
     "data": {
      "text/plain": [
       "(32559, 65)"
      ]
     },
     "execution_count": 290,
     "metadata": {},
     "output_type": "execute_result"
    }
   ],
   "source": [
    "x.shape"
   ]
  },
  {
   "cell_type": "code",
   "execution_count": 291,
   "metadata": {
    "collapsed": false
   },
   "outputs": [
    {
     "data": {
      "text/plain": [
       "(16281, 65)"
      ]
     },
     "execution_count": 291,
     "metadata": {},
     "output_type": "execute_result"
    }
   ],
   "source": [
    "xtest.shape"
   ]
  },
  {
   "cell_type": "markdown",
   "metadata": {},
   "source": [
    "## Modelling\n",
    "#### We will use logistic regression, random forest, neural network and SVM to do the modelling."
   ]
  },
  {
   "cell_type": "markdown",
   "metadata": {},
   "source": [
    "### Logistic Regression\n",
    "#### We define a function to tune and print the C parameters."
   ]
  },
  {
   "cell_type": "code",
   "execution_count": 298,
   "metadata": {
    "collapsed": true
   },
   "outputs": [],
   "source": [
    "def printing_Kfold_scores(x,y):\n",
    "\n",
    "    # Different C parameters\n",
    "    c_param_range = [0.01,0.1,1,10,100]\n",
    "\n",
    "    results_table = pd.DataFrame(index = range(len(c_param_range),2), columns = ['C_parameter','Accuracy score'])\n",
    "    results_table['C_parameter'] = c_param_range\n",
    "    \n",
    "    \n",
    "    j = 0\n",
    "    for c_param in c_param_range:\n",
    "        print('-------------------------------------------')\n",
    "        print('C parameter: ', c_param)\n",
    "        print('-------------------------------------------')\n",
    "        print('')\n",
    "        \n",
    "        # Call the logistic regression model with a certain C parameter\n",
    "        lr = LogisticRegression(C = c_param, penalty = 'l1')\n",
    "\n",
    "        scores = cross_val_score(lr, x, y, cv=5)\n",
    "        scores\n",
    "        accu = scores.mean()\n",
    "        \n",
    "        # The mean value of those recall scores is the metric we want to save and get hold of.\n",
    "        results_table.ix[j,'Mean accuracy score'] = accu\n",
    "        j += 1\n",
    "        print('')\n",
    "        print('Mean accuracy score ', accu)\n",
    "        print('')\n",
    "\n",
    "    best_c = results_table.loc[results_table['Mean accuracy score'].idxmax()]['C_parameter']\n",
    "    \n",
    "    # Finally, we can check which C parameter is the best amongst the chosen.\n",
    "    print('*********************************************************************************')\n",
    "    print('Best model to choose from cross validation is with C parameter = ', best_c)\n",
    "    print('*********************************************************************************')\n",
    "    \n",
    "    return best_c"
   ]
  },
  {
   "cell_type": "code",
   "execution_count": 299,
   "metadata": {
    "collapsed": false
   },
   "outputs": [
    {
     "name": "stdout",
     "output_type": "stream",
     "text": [
      "-------------------------------------------\n",
      "('C parameter: ', 0.01)\n",
      "-------------------------------------------\n",
      "\n",
      "\n",
      "('Mean accuracy score ', 0.84603338066707745)\n",
      "\n",
      "-------------------------------------------\n",
      "('C parameter: ', 0.1)\n",
      "-------------------------------------------\n",
      "\n",
      "\n",
      "('Mean accuracy score ', 0.85036398900820642)\n",
      "\n",
      "-------------------------------------------\n",
      "('C parameter: ', 1)\n",
      "-------------------------------------------\n",
      "\n",
      "\n",
      "('Mean accuracy score ', 0.85060969868795089)\n",
      "\n",
      "-------------------------------------------\n",
      "('C parameter: ', 10)\n",
      "-------------------------------------------\n",
      "\n",
      "\n",
      "('Mean accuracy score ', 0.85048685799914492)\n",
      "\n",
      "-------------------------------------------\n",
      "('C parameter: ', 100)\n",
      "-------------------------------------------\n",
      "\n",
      "\n",
      "('Mean accuracy score ', 0.85051757052985744)\n",
      "\n",
      "*********************************************************************************\n",
      "('Best model to choose from cross validation is with C parameter = ', 1.0)\n",
      "*********************************************************************************\n"
     ]
    }
   ],
   "source": [
    "best_c = printing_Kfold_scores(x,y)"
   ]
  },
  {
   "cell_type": "code",
   "execution_count": 300,
   "metadata": {
    "collapsed": true
   },
   "outputs": [],
   "source": [
    "lr = LogisticRegression(C = 1, penalty = 'l1').fit(x,y)"
   ]
  },
  {
   "cell_type": "code",
   "execution_count": 302,
   "metadata": {
    "collapsed": false
   },
   "outputs": [
    {
     "data": {
      "text/plain": [
       "0.85252748602665684"
      ]
     },
     "execution_count": 302,
     "metadata": {},
     "output_type": "execute_result"
    }
   ],
   "source": [
    "#Test Accuracy\n",
    "metrics.accuracy_score(ytest, lr.predict(xtest))"
   ]
  },
  {
   "cell_type": "code",
   "execution_count": 303,
   "metadata": {
    "collapsed": false
   },
   "outputs": [
    {
     "name": "stdout",
     "output_type": "stream",
     "text": [
      "             precision    recall  f1-score   support\n",
      "\n",
      "          0       0.88      0.93      0.91     12435\n",
      "          1       0.73      0.60      0.66      3846\n",
      "\n",
      "avg / total       0.85      0.85      0.85     16281\n",
      "\n"
     ]
    }
   ],
   "source": [
    "#Test metrics\n",
    "print(classification_report(ytest,lr.predict(xtest)))"
   ]
  },
  {
   "cell_type": "code",
   "execution_count": 305,
   "metadata": {
    "collapsed": false
   },
   "outputs": [
    {
     "data": {
      "image/png": "[encoded data removed]",
      "text/plain": [
       "<matplotlib.figure.Figure at 0x6bbc0d30>"
      ]
     },
     "metadata": {},
     "output_type": "display_data"
    }
   ],
   "source": [
    "y_pred_score = lr.decision_function(xtest.values)\n",
    "\n",
    "fpr, tpr, thresholds = roc_curve(ytest.values.ravel(),y_pred_score)\n",
    "roc_auc = auc(fpr,tpr)\n",
    "\n",
    "# Plot ROC\n",
    "plt.title('Receiver Operating Characteristic')\n",
    "plt.plot(fpr, tpr, 'b',label='AUC = %0.2f'% roc_auc)\n",
    "plt.legend(loc='lower right')\n",
    "plt.plot([0,1],[0,1],'r--')\n",
    "plt.xlim([-0.1,1.0])\n",
    "plt.ylim([-0.1,1.01])\n",
    "plt.ylabel('True Positive Rate')\n",
    "plt.xlabel('False Positive Rate')\n",
    "plt.show()"
   ]
  },
  {
   "cell_type": "markdown",
   "metadata": {},
   "source": [
    "#### The logistic regression already achieve pretty good result: test accuracy 85.25% and AUC 0.90."
   ]
  },
  {
   "cell_type": "markdown",
   "metadata": {},
   "source": [
    "### TREE\n"
   ]
  },
  {
   "cell_type": "code",
   "execution_count": 316,
   "metadata": {
    "collapsed": true
   },
   "outputs": [],
   "source": [
    "from sklearn import tree\n",
    "clf_tree = tree.DecisionTreeClassifier()\n",
    "clf_tree = clf_tree.fit(x, y)"
   ]
  },
  {
   "cell_type": "code",
   "execution_count": 313,
   "metadata": {
    "collapsed": false
   },
   "outputs": [
    {
     "data": {
      "text/plain": [
       "0.81888266388727149"
      ]
     },
     "execution_count": 313,
     "metadata": {},
     "output_type": "execute_result"
    }
   ],
   "source": [
    "#Train CV Accuracy\n",
    "scores = cross_val_score(clf_tree, x, y, cv=5)\n",
    "accu = scores.mean()\n",
    "accu"
   ]
  },
  {
   "cell_type": "code",
   "execution_count": 311,
   "metadata": {
    "collapsed": false
   },
   "outputs": [
    {
     "data": {
      "text/plain": [
       "0.81972851790430568"
      ]
     },
     "execution_count": 311,
     "metadata": {},
     "output_type": "execute_result"
    }
   ],
   "source": [
    "#Test Accuracy\n",
    "metrics.accuracy_score(ytest, clf_tree.predict(xtest))"
   ]
  },
  {
   "cell_type": "code",
   "execution_count": 314,
   "metadata": {
    "collapsed": false
   },
   "outputs": [
    {
     "name": "stdout",
     "output_type": "stream",
     "text": [
      "             precision    recall  f1-score   support\n",
      "\n",
      "          0       0.88      0.89      0.88     12435\n",
      "          1       0.62      0.61      0.61      3846\n",
      "\n",
      "avg / total       0.82      0.82      0.82     16281\n",
      "\n"
     ]
    }
   ],
   "source": [
    "#Test metrics\n",
    "print(classification_report(ytest,clf_tree.predict(xtest)))"
   ]
  },
  {
   "cell_type": "code",
   "execution_count": 330,
   "metadata": {
    "collapsed": false
   },
   "outputs": [
    {
     "data": {
      "text/plain": [
       "0.74750797752054843"
      ]
     },
     "execution_count": 330,
     "metadata": {},
     "output_type": "execute_result"
    }
   ],
   "source": [
    "from sklearn.metrics import roc_curve, auc\n",
    "from scipy import interp\n",
    "\n",
    "y_score = clf_tree.predict(xtest)\n",
    "\n",
    "fpr = dict()\n",
    "tpr = dict()\n",
    "roc_auc = dict()\n",
    "\n",
    "fpr, tpr, _ = roc_curve(ytest[:], y_score[:])\n",
    "roc_auc = auc(fpr, tpr)\n",
    "\n",
    "#ROC curve for a specific class here for the class 2\n",
    "roc_auc"
   ]
  },
  {
   "cell_type": "code",
   "execution_count": 337,
   "metadata": {
    "collapsed": false
   },
   "outputs": [
    {
     "name": "stdout",
     "output_type": "stream",
     "text": [
      "Collecting graphviz\n",
      "  Downloading graphviz-0.8.1-py2.py3-none-any.whl\n",
      "Installing collected packages: graphviz\n",
      "Successfully installed graphviz-0.8.1\n"
     ]
    }
   ],
   "source": [
    "!pip install graphviz"
   ]
  },
  {
   "cell_type": "markdown",
   "metadata": {},
   "source": [
    "#### A possible way to print tree plot (need to install graphviz):"
   ]
  },
  {
   "cell_type": "markdown",
   "metadata": {},
   "source": [
    "import graphviz\n",
    "dot_data = tree.export_graphviz(clf_tree, out_file=None) \n",
    "graph = graphviz.Source(dot_data) \n",
    "graph.render(\"Tree\") \n",
    "\n",
    "dot_data = tree.export_graphviz(clf_tree, out_file=None, \n",
    "                         feature_names=list(x.columns[0]),  \n",
    "                         class_names=list(y.columns[0]),  \n",
    "                         filled=True, rounded=True,  \n",
    "                         special_characters=True)  \n",
    "graph = graphviz.Source(dot_data)  \n",
    "graph "
   ]
  },
  {
   "cell_type": "markdown",
   "metadata": {},
   "source": [
    "#### logistic regression has higher accuracy and AUC."
   ]
  },
  {
   "cell_type": "markdown",
   "metadata": {},
   "source": [
    "### Random Forrest"
   ]
  },
  {
   "cell_type": "code",
   "execution_count": 349,
   "metadata": {
    "collapsed": false
   },
   "outputs": [
    {
     "data": {
      "text/plain": [
       "RandomForestClassifier(bootstrap=True, class_weight=None, criterion='gini',\n",
       "            max_depth=None, max_features='auto', max_leaf_nodes=None,\n",
       "            min_impurity_split=1e-07, min_samples_leaf=1,\n",
       "            min_samples_split=2, min_weight_fraction_leaf=0.0,\n",
       "            n_estimators=10, n_jobs=-1, oob_score=False, random_state=None,\n",
       "            verbose=0, warm_start=False)"
      ]
     },
     "execution_count": 349,
     "metadata": {},
     "output_type": "execute_result"
    }
   ],
   "source": [
    "# random forest\n",
    "from sklearn.ensemble import RandomForestClassifier\n",
    "rf = RandomForestClassifier(n_jobs=-1)\n",
    "rf.fit(x,y)"
   ]
  },
  {
   "cell_type": "code",
   "execution_count": 362,
   "metadata": {
    "collapsed": false
   },
   "outputs": [],
   "source": [
    "rfimp = pd.DataFrame(zip(list(rf.feature_importances_), x.columns))"
   ]
  },
  {
   "cell_type": "code",
   "execution_count": 365,
   "metadata": {
    "collapsed": false
   },
   "outputs": [
    {
     "data": {
      "text/html": [
       "<div>\n",
       "<table border=\"1\" class=\"dataframe\">\n",
       "  <thead>\n",
       "    <tr style=\"text-align: right;\">\n",
       "      <th></th>\n",
       "      <th>importance</th>\n",
       "      <th>name</th>\n",
       "    </tr>\n",
       "  </thead>\n",
       "  <tbody>\n",
       "    <tr>\n",
       "      <th>0</th>\n",
       "      <td>0.242824</td>\n",
       "      <td>age</td>\n",
       "    </tr>\n",
       "    <tr>\n",
       "      <th>4</th>\n",
       "      <td>0.118150</td>\n",
       "      <td>hours.per.week</td>\n",
       "    </tr>\n",
       "    <tr>\n",
       "      <th>2</th>\n",
       "      <td>0.109762</td>\n",
       "      <td>capital.gain</td>\n",
       "    </tr>\n",
       "    <tr>\n",
       "      <th>32</th>\n",
       "      <td>0.056167</td>\n",
       "      <td>marital_Married-civ-spouse</td>\n",
       "    </tr>\n",
       "    <tr>\n",
       "      <th>1</th>\n",
       "      <td>0.051398</td>\n",
       "      <td>education.num</td>\n",
       "    </tr>\n",
       "    <tr>\n",
       "      <th>52</th>\n",
       "      <td>0.041995</td>\n",
       "      <td>relation_Husband</td>\n",
       "    </tr>\n",
       "    <tr>\n",
       "      <th>34</th>\n",
       "      <td>0.040466</td>\n",
       "      <td>marital_Never-married</td>\n",
       "    </tr>\n",
       "    <tr>\n",
       "      <th>3</th>\n",
       "      <td>0.035539</td>\n",
       "      <td>capital.loss</td>\n",
       "    </tr>\n",
       "    <tr>\n",
       "      <th>47</th>\n",
       "      <td>0.024500</td>\n",
       "      <td>occup_Prof-specialty</td>\n",
       "    </tr>\n",
       "    <tr>\n",
       "      <th>41</th>\n",
       "      <td>0.020322</td>\n",
       "      <td>occup_Exec-managerial</td>\n",
       "    </tr>\n",
       "  </tbody>\n",
       "</table>\n",
       "</div>"
      ],
      "text/plain": [
       "    importance                        name\n",
       "0     0.242824                         age\n",
       "4     0.118150              hours.per.week\n",
       "2     0.109762                capital.gain\n",
       "32    0.056167  marital_Married-civ-spouse\n",
       "1     0.051398               education.num\n",
       "52    0.041995            relation_Husband\n",
       "34    0.040466       marital_Never-married\n",
       "3     0.035539                capital.loss\n",
       "47    0.024500        occup_Prof-specialty\n",
       "41    0.020322       occup_Exec-managerial"
      ]
     },
     "execution_count": 365,
     "metadata": {},
     "output_type": "execute_result"
    }
   ],
   "source": [
    "rfimp.columns = ['importance','name']\n",
    "rfimp.sort_values(by='importance',ascending= False).head(10)"
   ]
  },
  {
   "cell_type": "code",
   "execution_count": 366,
   "metadata": {
    "collapsed": false
   },
   "outputs": [
    {
     "data": {
      "text/plain": [
       "0.8419179062686204"
      ]
     },
     "execution_count": 366,
     "metadata": {},
     "output_type": "execute_result"
    }
   ],
   "source": [
    "#Train CV Accuracy\n",
    "scores = cross_val_score(rf, x, y, cv=5)\n",
    "accu = scores.mean()\n",
    "accu"
   ]
  },
  {
   "cell_type": "code",
   "execution_count": 367,
   "metadata": {
    "collapsed": false
   },
   "outputs": [
    {
     "data": {
      "text/plain": [
       "0.83944475155088749"
      ]
     },
     "execution_count": 367,
     "metadata": {},
     "output_type": "execute_result"
    }
   ],
   "source": [
    "#Test Accuracy\n",
    "metrics.accuracy_score(ytest, rf.predict(xtest))"
   ]
  },
  {
   "cell_type": "code",
   "execution_count": 368,
   "metadata": {
    "collapsed": false
   },
   "outputs": [
    {
     "name": "stdout",
     "output_type": "stream",
     "text": [
      "             precision    recall  f1-score   support\n",
      "\n",
      "          0       0.88      0.92      0.90     12435\n",
      "          1       0.69      0.59      0.63      3846\n",
      "\n",
      "avg / total       0.83      0.84      0.83     16281\n",
      "\n"
     ]
    }
   ],
   "source": [
    "#Test metrics\n",
    "print(classification_report(ytest,rf.predict(xtest)))"
   ]
  },
  {
   "cell_type": "code",
   "execution_count": 370,
   "metadata": {
    "collapsed": false
   },
   "outputs": [
    {
     "name": "stdout",
     "output_type": "stream",
     "text": [
      "Best parameters :\n",
      "{'n_estimators': 15, 'max_depth': 10, 'class_weight': None}\n"
     ]
    }
   ],
   "source": [
    "# Tuning the rfm models\n",
    "from sklearn.model_selection import GridSearchCV\n",
    "tuned_parameters = [{\n",
    "        \"n_estimators\":[8,15,20],\n",
    "        \"max_depth\":[5,10,None],\n",
    "        \"class_weight\":[\"balanced\",None]\n",
    "    }]\n",
    "\n",
    "rfm = GridSearchCV(RandomForestClassifier(n_jobs=-1), tuned_parameters, cv=5)\n",
    "rfm.fit(x, y)\n",
    "print(\"Best parameters :\")\n",
    "print(rfm.best_params_)"
   ]
  },
  {
   "cell_type": "code",
   "execution_count": 372,
   "metadata": {
    "collapsed": false
   },
   "outputs": [
    {
     "name": "stdout",
     "output_type": "stream",
     "text": [
      "             precision    recall  f1-score   support\n",
      "\n",
      "          0       0.87      0.96      0.91     12435\n",
      "          1       0.80      0.54      0.65      3846\n",
      "\n",
      "avg / total       0.85      0.86      0.85     16281\n",
      "\n"
     ]
    }
   ],
   "source": [
    "#Test metrics\n",
    "print(classification_report(ytest,rfm.predict(xtest)))"
   ]
  },
  {
   "cell_type": "code",
   "execution_count": 373,
   "metadata": {
    "collapsed": false
   },
   "outputs": [
    {
     "data": {
      "text/plain": [
       "0.85909956390885078"
      ]
     },
     "execution_count": 373,
     "metadata": {},
     "output_type": "execute_result"
    }
   ],
   "source": [
    "#Test Accuracy\n",
    "metrics.accuracy_score(ytest, rfm.predict(xtest))"
   ]
  },
  {
   "cell_type": "code",
   "execution_count": 384,
   "metadata": {
    "collapsed": false
   },
   "outputs": [
    {
     "data": {
      "text/plain": [
       "0.74971919504041906"
      ]
     },
     "execution_count": 384,
     "metadata": {},
     "output_type": "execute_result"
    }
   ],
   "source": [
    "y_pred_score = rfm.predict(xtest)\n",
    "\n",
    "fpr, tpr, thresholds = roc_curve(ytest,y_pred_score)\n",
    "roc_auc = auc(fpr,tpr)\n",
    "roc_auc"
   ]
  },
  {
   "cell_type": "markdown",
   "metadata": {},
   "source": [
    "#### Random Forest has higher accuracy than the previous models. It is also the last model here which is able to see the importance of the features. The more complex models below will not be able to show the feature importances."
   ]
  },
  {
   "cell_type": "markdown",
   "metadata": {},
   "source": [
    "### SVM"
   ]
  },
  {
   "cell_type": "code",
   "execution_count": 441,
   "metadata": {
    "collapsed": false
   },
   "outputs": [
    {
     "data": {
      "text/plain": [
       "SVC(C=1.0, cache_size=200, class_weight=None, coef0=0.0,\n",
       "  decision_function_shape=None, degree=3, gamma='auto', kernel='rbf',\n",
       "  max_iter=-1, probability=True, random_state=None, shrinking=True,\n",
       "  tol=0.001, verbose=False)"
      ]
     },
     "execution_count": 441,
     "metadata": {},
     "output_type": "execute_result"
    }
   ],
   "source": [
    "from sklearn import svm\n",
    "\n",
    "clf_svm = svm.SVC(probability= True)\n",
    "clf_svm.fit(x, y) "
   ]
  },
  {
   "cell_type": "code",
   "execution_count": 387,
   "metadata": {
    "collapsed": false
   },
   "outputs": [
    {
     "data": {
      "text/plain": [
       "0.86221945511225184"
      ]
     },
     "execution_count": 387,
     "metadata": {},
     "output_type": "execute_result"
    }
   ],
   "source": [
    "#Train CV Accuracy\n",
    "scores = cross_val_score(clf_svm, x, y, cv=5)\n",
    "accu = scores.mean()\n",
    "accu"
   ]
  },
  {
   "cell_type": "code",
   "execution_count": 388,
   "metadata": {
    "collapsed": false
   },
   "outputs": [
    {
     "data": {
      "text/plain": [
       "0.86585590565690074"
      ]
     },
     "execution_count": 388,
     "metadata": {},
     "output_type": "execute_result"
    }
   ],
   "source": [
    "#Test Accuracy\n",
    "metrics.accuracy_score(ytest, clf_svm.predict(xtest))"
   ]
  },
  {
   "cell_type": "code",
   "execution_count": 406,
   "metadata": {
    "collapsed": false
   },
   "outputs": [
    {
     "data": {
      "text/plain": [
       "0.76662385433897451"
      ]
     },
     "execution_count": 406,
     "metadata": {},
     "output_type": "execute_result"
    }
   ],
   "source": [
    "y_pred_score = clf_svm.predict(xtest)\n",
    "\n",
    "fpr, tpr, thresholds = roc_curve(ytest,y_pred_score)\n",
    "roc_auc = auc(fpr,tpr)\n",
    "roc_auc"
   ]
  },
  {
   "cell_type": "markdown",
   "metadata": {},
   "source": [
    "#### Tuning SVC model \n",
    "#### It runs for too long, but if we have time, we can always tune it. \n",
    "from sklearn.model_selection import GridSearchCV\n",
    "tuned_parameters = [{\n",
    "        \"C\":[0.1,5,10]\n",
    "    }]\n",
    "\n",
    "svm_tune = GridSearchCV(svm.SVC(n_jobs=-1), tuned_parameters, cv=5)\n",
    "svm_tune.fit(x, y)\n",
    "print(\"Best parameters :\")\n",
    "print(rfm.best_params_)"
   ]
  },
  {
   "cell_type": "markdown",
   "metadata": {},
   "source": [
    "### Neural Network"
   ]
  },
  {
   "cell_type": "code",
   "execution_count": 390,
   "metadata": {
    "collapsed": true
   },
   "outputs": [],
   "source": [
    "from sklearn.neural_network import MLPClassifier\n",
    "\n",
    "nn1 = MLPClassifier()"
   ]
  },
  {
   "cell_type": "code",
   "execution_count": 391,
   "metadata": {
    "collapsed": false
   },
   "outputs": [
    {
     "data": {
      "text/plain": [
       "0.83715716683578756"
      ]
     },
     "execution_count": 391,
     "metadata": {},
     "output_type": "execute_result"
    }
   ],
   "source": [
    "#Train CV Accuracy\n",
    "scores = cross_val_score(nn1, x, y, cv=5)\n",
    "accu = scores.mean()\n",
    "accu"
   ]
  },
  {
   "cell_type": "code",
   "execution_count": 393,
   "metadata": {
    "collapsed": false
   },
   "outputs": [
    {
     "data": {
      "text/plain": [
       "0.84165591794115846"
      ]
     },
     "execution_count": 393,
     "metadata": {},
     "output_type": "execute_result"
    }
   ],
   "source": [
    "#Test Accuracy\n",
    "nn1.fit(x,y)\n",
    "metrics.accuracy_score(ytest, nn1.predict(xtest))"
   ]
  },
  {
   "cell_type": "code",
   "execution_count": 401,
   "metadata": {
    "collapsed": false
   },
   "outputs": [
    {
     "name": "stdout",
     "output_type": "stream",
     "text": [
      "Best parameters :\n",
      "{'hidden_layer_sizes': (100,)}\n"
     ]
    }
   ],
   "source": [
    "# Tuning the rfm models\n",
    "from sklearn.model_selection import GridSearchCV\n",
    "tuned_parameters = [{\n",
    "        \"hidden_layer_sizes\":[(100,),(150,),(50,50),(100,100),(100,100,100),(100,50,50),(100,100,100,50)]\n",
    "    }]\n",
    "\n",
    "nn_tune = GridSearchCV(MLPClassifier(), tuned_parameters, cv=5)\n",
    "nn_tune.fit(x, y)\n",
    "print(\"Best parameters :\")\n",
    "print(nn_tune.best_params_)"
   ]
  },
  {
   "cell_type": "code",
   "execution_count": 403,
   "metadata": {
    "collapsed": false
   },
   "outputs": [
    {
     "name": "stdout",
     "output_type": "stream",
     "text": [
      "Best parameters :\n",
      "{'epsilon': 1e-09, 'tol': 1e-05, 'hidden_layer_sizes': (100,)}\n"
     ]
    }
   ],
   "source": [
    "# Tuning the nn models\n",
    "from sklearn.model_selection import GridSearchCV\n",
    "tuned_parameters = [{\n",
    "        \"hidden_layer_sizes\":[(100,),(50,),(50,50),(100,50),],\n",
    "        'tol': [1e-3, 1e-4, 1e-5],\n",
    "        'epsilon': [1e-7, 1e-8, 1e-9]\n",
    "    }]\n",
    "\n",
    "nn_tune = GridSearchCV(MLPClassifier(), tuned_parameters, cv=5)\n",
    "nn_tune.fit(x, y)\n",
    "print(\"Best parameters :\")\n",
    "print(nn_tune.best_params_)"
   ]
  },
  {
   "cell_type": "code",
   "execution_count": 404,
   "metadata": {
    "collapsed": false
   },
   "outputs": [
    {
     "data": {
      "text/plain": [
       "0.8487668540188581"
      ]
     },
     "execution_count": 404,
     "metadata": {},
     "output_type": "execute_result"
    }
   ],
   "source": [
    "#Train Accuracy\n",
    "metrics.accuracy_score(y, nn_tune.predict(x))"
   ]
  },
  {
   "cell_type": "code",
   "execution_count": 405,
   "metadata": {
    "collapsed": false
   },
   "outputs": [
    {
     "data": {
      "text/plain": [
       "0.84441987592899703"
      ]
     },
     "execution_count": 405,
     "metadata": {},
     "output_type": "execute_result"
    }
   ],
   "source": [
    "#Test Accuracy\n",
    "metrics.accuracy_score(ytest, nn_tune.predict(xtest))"
   ]
  },
  {
   "cell_type": "code",
   "execution_count": 407,
   "metadata": {
    "collapsed": false
   },
   "outputs": [
    {
     "data": {
      "text/plain": [
       "0.79353791039458232"
      ]
     },
     "execution_count": 407,
     "metadata": {},
     "output_type": "execute_result"
    }
   ],
   "source": [
    "y_pred_score = nn_tune.predict(xtest)\n",
    "\n",
    "fpr, tpr, thresholds = roc_curve(ytest,y_pred_score)\n",
    "roc_auc = auc(fpr,tpr)\n",
    "roc_auc"
   ]
  },
  {
   "cell_type": "markdown",
   "metadata": {},
   "source": [
    "### Ensemble Method - Adboost"
   ]
  },
  {
   "cell_type": "code",
   "execution_count": 408,
   "metadata": {
    "collapsed": true
   },
   "outputs": [],
   "source": [
    "from sklearn.ensemble import AdaBoostClassifier\n",
    "\n",
    "ada1 = AdaBoostClassifier(n_estimators=100)"
   ]
  },
  {
   "cell_type": "code",
   "execution_count": 409,
   "metadata": {
    "collapsed": false
   },
   "outputs": [
    {
     "data": {
      "text/plain": [
       "0.8645538279251207"
      ]
     },
     "execution_count": 409,
     "metadata": {},
     "output_type": "execute_result"
    }
   ],
   "source": [
    "#Train CV Accuracy\n",
    "scores = cross_val_score(ada1, x, y)\n",
    "scores.mean()"
   ]
  },
  {
   "cell_type": "code",
   "execution_count": 410,
   "metadata": {
    "collapsed": false
   },
   "outputs": [
    {
     "data": {
      "text/plain": [
       "0.86518027148209564"
      ]
     },
     "execution_count": 410,
     "metadata": {},
     "output_type": "execute_result"
    }
   ],
   "source": [
    "#Test Accuracy\n",
    "ada1.fit(x,y)\n",
    "metrics.accuracy_score(ytest, ada1.predict(xtest))"
   ]
  },
  {
   "cell_type": "code",
   "execution_count": null,
   "metadata": {
    "collapsed": true
   },
   "outputs": [],
   "source": [
    "# Tuning the adaboost models\n",
    "from sklearn.model_selection import GridSearchCV\n",
    "tuned_parameters = [{\n",
    "        \"n_estimators\":[50,100,150],\n",
    "        'learning_rate': [0.1, 1, 10]\n",
    "    }]\n",
    "\n",
    "ada_tune = GridSearchCV(AdaBoostClassifier(), tuned_parameters, cv=5)\n",
    "ada_tune.fit(x, y)"
   ]
  },
  {
   "cell_type": "code",
   "execution_count": 412,
   "metadata": {
    "collapsed": false
   },
   "outputs": [
    {
     "name": "stdout",
     "output_type": "stream",
     "text": [
      "Best parameters :\n",
      "{'n_estimators': 150, 'learning_rate': 1}\n"
     ]
    }
   ],
   "source": [
    "print(\"Best parameters :\")\n",
    "print(ada_tune.best_params_)"
   ]
  },
  {
   "cell_type": "code",
   "execution_count": 413,
   "metadata": {
    "collapsed": false
   },
   "outputs": [
    {
     "data": {
      "text/plain": [
       "0.86691851715347523"
      ]
     },
     "execution_count": 413,
     "metadata": {},
     "output_type": "execute_result"
    }
   ],
   "source": [
    "#Train Accuracy\n",
    "metrics.accuracy_score(y, ada_tune.predict(x))"
   ]
  },
  {
   "cell_type": "code",
   "execution_count": 414,
   "metadata": {
    "collapsed": false
   },
   "outputs": [
    {
     "data": {
      "text/plain": [
       "0.8668386462747989"
      ]
     },
     "execution_count": 414,
     "metadata": {},
     "output_type": "execute_result"
    }
   ],
   "source": [
    "#Test Accuracy\n",
    "y_pred_score = ada_tune.predict(xtest)\n",
    "metrics.accuracy_score(ytest, y_pred_score)"
   ]
  },
  {
   "cell_type": "code",
   "execution_count": 415,
   "metadata": {
    "collapsed": false
   },
   "outputs": [
    {
     "data": {
      "text/plain": [
       "0.78486723787407464"
      ]
     },
     "execution_count": 415,
     "metadata": {},
     "output_type": "execute_result"
    }
   ],
   "source": [
    "fpr, tpr, thresholds = roc_curve(ytest,y_pred_score)\n",
    "roc_auc = auc(fpr,tpr)\n",
    "roc_auc"
   ]
  },
  {
   "cell_type": "markdown",
   "metadata": {},
   "source": [
    "### Ensemble Method - Gradient Tree Boosting"
   ]
  },
  {
   "cell_type": "code",
   "execution_count": 416,
   "metadata": {
    "collapsed": true
   },
   "outputs": [],
   "source": [
    "from sklearn.ensemble import GradientBoostingClassifier\n",
    "\n",
    "gbm1 = GradientBoostingClassifier()"
   ]
  },
  {
   "cell_type": "code",
   "execution_count": 417,
   "metadata": {
    "collapsed": false
   },
   "outputs": [
    {
     "data": {
      "text/plain": [
       "0.86578233859033116"
      ]
     },
     "execution_count": 417,
     "metadata": {},
     "output_type": "execute_result"
    }
   ],
   "source": [
    "#Train CV Accuracy\n",
    "scores = cross_val_score(gbm1, x, y)\n",
    "scores.mean()"
   ]
  },
  {
   "cell_type": "code",
   "execution_count": 418,
   "metadata": {
    "collapsed": false
   },
   "outputs": [
    {
     "data": {
      "text/plain": [
       "0.87009397457158655"
      ]
     },
     "execution_count": 418,
     "metadata": {},
     "output_type": "execute_result"
    }
   ],
   "source": [
    "#Test Accuracy\n",
    "gbm1.fit(x,y)\n",
    "metrics.accuracy_score(ytest, gbm1.predict(xtest))"
   ]
  },
  {
   "cell_type": "code",
   "execution_count": 419,
   "metadata": {
    "collapsed": false
   },
   "outputs": [
    {
     "data": {
      "text/plain": [
       "GridSearchCV(cv=5, error_score='raise',\n",
       "       estimator=GradientBoostingClassifier(criterion='friedman_mse', init=None,\n",
       "              learning_rate=0.1, loss='deviance', max_depth=3,\n",
       "              max_features=None, max_leaf_nodes=None,\n",
       "              min_impurity_split=1e-07, min_samples_leaf=1,\n",
       "              min_samples_split=2, min_weight_fraction_leaf=0.0,\n",
       "              n_estimators=100, presort='auto', random_state=None,\n",
       "              subsample=1.0, verbose=0, warm_start=False),\n",
       "       fit_params={}, iid=True, n_jobs=1,\n",
       "       param_grid=[{'n_estimators': [50, 100, 150], 'learning_rate': [0.01, 0.1, 1, 10]}],\n",
       "       pre_dispatch='2*n_jobs', refit=True, return_train_score=True,\n",
       "       scoring=None, verbose=0)"
      ]
     },
     "execution_count": 419,
     "metadata": {},
     "output_type": "execute_result"
    }
   ],
   "source": [
    "# Tuning the adaboost models\n",
    "from sklearn.model_selection import GridSearchCV\n",
    "tuned_parameters = [{\n",
    "        \"n_estimators\":[50,100,150],\n",
    "        'learning_rate': [0.01,0.1, 1, 10]\n",
    "    }]\n",
    "\n",
    "gbm_tune = GridSearchCV(GradientBoostingClassifier(), tuned_parameters, cv=5)\n",
    "gbm_tune.fit(x, y)"
   ]
  },
  {
   "cell_type": "code",
   "execution_count": 420,
   "metadata": {
    "collapsed": false
   },
   "outputs": [
    {
     "name": "stdout",
     "output_type": "stream",
     "text": [
      "Best parameters :\n",
      "{'n_estimators': 50, 'learning_rate': 1}\n"
     ]
    }
   ],
   "source": [
    "print(\"Best parameters :\")\n",
    "print(gbm_tune.best_params_)"
   ]
  },
  {
   "cell_type": "code",
   "execution_count": 421,
   "metadata": {
    "collapsed": false
   },
   "outputs": [
    {
     "data": {
      "text/plain": [
       "0.87653183451580208"
      ]
     },
     "execution_count": 421,
     "metadata": {},
     "output_type": "execute_result"
    }
   ],
   "source": [
    "#Train Accuracy\n",
    "metrics.accuracy_score(y, gbm_tune.predict(x))"
   ]
  },
  {
   "cell_type": "code",
   "execution_count": 424,
   "metadata": {
    "collapsed": false
   },
   "outputs": [
    {
     "data": {
      "text/plain": [
       "0.87040108101467972"
      ]
     },
     "execution_count": 424,
     "metadata": {},
     "output_type": "execute_result"
    }
   ],
   "source": [
    "#Test Accuracy\n",
    "y_pred_score = gbm_tune.predict(xtest)\n",
    "metrics.accuracy_score(ytest, y_pred_score)"
   ]
  },
  {
   "cell_type": "code",
   "execution_count": 425,
   "metadata": {
    "collapsed": false
   },
   "outputs": [
    {
     "data": {
      "text/plain": [
       "0.79599938400431069"
      ]
     },
     "execution_count": 425,
     "metadata": {},
     "output_type": "execute_result"
    }
   ],
   "source": [
    "fpr, tpr, thresholds = roc_curve(ytest,y_pred_score)\n",
    "roc_auc = auc(fpr,tpr)\n",
    "roc_auc"
   ]
  },
  {
   "cell_type": "markdown",
   "metadata": {},
   "source": [
    "### Final Model: \n",
    "### Ensemble Method - Voting Method"
   ]
  },
  {
   "cell_type": "markdown",
   "metadata": {},
   "source": [
    "#### So far the best methods are:\n",
    "#### Gradient Tree Boosting -- Test accuracy 0.8704\n",
    "#### AdaBoosting -- Test accuracy 0.8668\n",
    "#### Random Forest -- Test accuracy 0.8591\n",
    "#### So we use these 3 models to vote the final prediction:"
   ]
  },
  {
   "cell_type": "code",
   "execution_count": 444,
   "metadata": {
    "collapsed": false
   },
   "outputs": [],
   "source": [
    "from itertools import product\n",
    "from sklearn.ensemble import VotingClassifier\n",
    "\n",
    "# Training classifiers\n",
    "\n",
    "eclf = VotingClassifier(estimators=[('gbm', gbm_tune), ('ada', ada_tune), ('rf',rfm)], voting='soft')\n",
    "\n",
    "eclf = eclf.fit(x,y)"
   ]
  },
  {
   "cell_type": "code",
   "execution_count": 446,
   "metadata": {
    "collapsed": false
   },
   "outputs": [
    {
     "data": {
      "text/plain": [
       "0.87683896925581251"
      ]
     },
     "execution_count": 446,
     "metadata": {},
     "output_type": "execute_result"
    }
   ],
   "source": [
    "#Train Accuracy\n",
    "metrics.accuracy_score(y, eclf.predict(x))"
   ]
  },
  {
   "cell_type": "code",
   "execution_count": 447,
   "metadata": {
    "collapsed": false
   },
   "outputs": [
    {
     "data": {
      "text/plain": [
       "0.87218229838462014"
      ]
     },
     "execution_count": 447,
     "metadata": {},
     "output_type": "execute_result"
    }
   ],
   "source": [
    "#Test Accuracy\n",
    "y_pred_score = eclf.predict(xtest)\n",
    "metrics.accuracy_score(ytest, y_pred_score)"
   ]
  },
  {
   "cell_type": "code",
   "execution_count": 448,
   "metadata": {
    "collapsed": false
   },
   "outputs": [
    {
     "data": {
      "text/plain": [
       "0.78603072952833675"
      ]
     },
     "execution_count": 448,
     "metadata": {},
     "output_type": "execute_result"
    }
   ],
   "source": [
    "fpr, tpr, thresholds = roc_curve(ytest,y_pred_score)\n",
    "roc_auc = auc(fpr,tpr)\n",
    "roc_auc"
   ]
  },
  {
   "cell_type": "markdown",
   "metadata": {},
   "source": [
    "#### The final voting model outperforms the other models with 87.22% test accuracy."
   ]
  },
  {
   "cell_type": "markdown",
   "metadata": {},
   "source": [
    "## Conclusion\n",
    "#### For income class prediction, we performed \n",
    "#### 1. Feature exploration by checking independent and dependent variables\n",
    "#### 2. Possible missing value exploration and determine to keep '?' value and drop some datapoints with wrong info\n",
    "#### 3. Feature selection by exploring correlation between dependent variables and the label and also using select from model package and linearSVC model.\n",
    "#### 4. Build models using Logistic, Tree, Random forest, Support vector machine, Neural Net, AdaBoost, Gradient tree boosting and ensemble voting method.\n",
    "#### 5. Tunned each of the models to obtain best train accuracy and test accuracy.\n",
    "#### 6. Comparing the results between all models and finally choose the Voting method model combining Random forest, AdaBoost and Gradien tree boosting with 87.22% test accuracy.\n",
    "\n",
    "\n"
   ]
  }
 ],
 "metadata": {
  "kernelspec": {
   "display_name": "Python 2",
   "language": "python",
   "name": "python2"
  },
  "language_info": {
   "codemirror_mode": {
    "name": "ipython",
    "version": 2
   },
   "file_extension": ".py",
   "mimetype": "text/x-python",
   "name": "python",
   "nbconvert_exporter": "python",
   "pygments_lexer": "ipython2",
   "version": "2.7.13"
  }
 },
 "nbformat": 4,
 "nbformat_minor": 2
}
